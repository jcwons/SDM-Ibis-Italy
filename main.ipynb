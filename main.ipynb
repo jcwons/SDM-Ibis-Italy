{
  "cells": [
    {
      "cell_type": "markdown",
      "metadata": {},
      "source": [
        "# Species Distribution Modelling:\n",
        "## The Bin Chicken in Italy"
      ]
    },
    {
      "cell_type": "markdown",
      "metadata": {
        "id": "l18M9_r5XmAQ"
      },
      "source": [
        "The notebook follows the [Google Earth Engine tutorial](https://developers.google.com/earth-engine/tutorials/community/species-distribution-modeling), but instead of using the Google Earth Engine, we perform the analyse in Python because I think the code in GEE tends to get a bit messy and some lines are hard to understand. GEE is great for interactive maps and provides amazing tutorials, seriously check out the website and all the tutorials they have ranging from basics to quite advanced topics.\n",
        "\n",
        "However, I want to create a blog post on my static website, so it'll be \"basic\" Python (rasterio and matplotlib). \n",
        "\n",
        "Double however, we will still be using GEE for the data collection because the easy access to data is just unbeatable. Downloading all the data/maps can be a bit annoying especially when some data is only available as a whole and has to be cropped afterwards. The bioclimatic Data from WorldClim for example is roughly 10GB.\n",
        "\n",
        "So the plan is to first gather the data in GEE, do most of the data wrangling in there and then export it. The export is a bit complicated with how GEE works, but we are converting the raster data into a gdf and then save the gdf. This step takes quite some time, but I will also provide the data for download to skip this step."
      ]
    },
    {
      "cell_type": "code",
      "execution_count": 2,
      "metadata": {},
      "outputs": [],
      "source": [
        "import ee\n",
        "\n",
        "# Trigger the authentication flow.\n",
        "ee.Authenticate()\n",
        "\n",
        "# Initialize the library.\n",
        "ee.Initialize()"
      ]
    },
    {
      "cell_type": "markdown",
      "metadata": {},
      "source": [
        "# 1 Collecting the Occurence Data"
      ]
    },
    {
      "cell_type": "markdown",
      "metadata": {},
      "source": [
        "In the first step, we will collect all the required data. Starting with the environmental information, we want to gather the following information:\n",
        "1. Elevation Data from SRTM (NASA)\n",
        "2. Tree Canopy Cover from \n",
        "3. Bioclimatic Data from WorldClim"
      ]
    },
    {
      "cell_type": "code",
      "execution_count": 3,
      "metadata": {},
      "outputs": [],
      "source": [
        "# Spatial resolution setting (meters)\n",
        "grain_size = 3000"
      ]
    },
    {
      "cell_type": "code",
      "execution_count": 4,
      "metadata": {
        "id": "4jbM03uIrjST"
      },
      "outputs": [],
      "source": [
        "# Import libraries\n",
        "# if you get errors here you should be able to just pip install the libraries\n",
        "\n",
        "import geemap\n",
        "\n",
        "import geemap.colormaps as cm\n",
        "import pandas as pd, geopandas as gpd\n",
        "import numpy as np, matplotlib.pyplot as plt\n",
        "import os, requests, math, random\n",
        "\n",
        "from ipyleaflet import TileLayer\n",
        "from statsmodels.stats.outliers_influence import variance_inflation_factor\n",
        "\n",
        "from shapely.ops import unary_union\n",
        "from shapely.geometry import Point\n",
        "\n",
        "from geopandas.tools import sjoin\n",
        "from sklearn.cluster import KMeans\n",
        "\n",
        "from sklearn.model_selection import train_test_split\n",
        "from sklearn.ensemble import RandomForestClassifier\n",
        "from sklearn.metrics import classification_report, roc_auc_score, accuracy_score"
      ]
    },
    {
      "cell_type": "markdown",
      "metadata": {},
      "source": [
        "I have prepared the data set we are working with. It can be downloaded from https://gbif.org/\n",
        "I have also provided an API approach to download data, but for some reason it did not work for the magical bin chickens. I only got 300 entries compared to 3,000."
      ]
    },
    {
      "cell_type": "code",
      "execution_count": null,
      "metadata": {},
      "outputs": [
        {
          "data": {
            "text/html": [
              "\n",
              "            <style>\n",
              "                .geemap-dark {\n",
              "                    --jp-widgets-color: white;\n",
              "                    --jp-widgets-label-color: white;\n",
              "                    --jp-ui-font-color1: white;\n",
              "                    --jp-layout-color2: #454545;\n",
              "                    background-color: #383838;\n",
              "                }\n",
              "\n",
              "                .geemap-dark .jupyter-button {\n",
              "                    --jp-layout-color3: #383838;\n",
              "                }\n",
              "\n",
              "                .geemap-colab {\n",
              "                    background-color: var(--colab-primary-surface-color, white);\n",
              "                }\n",
              "\n",
              "                .geemap-colab .jupyter-button {\n",
              "                    --jp-layout-color3: var(--colab-primary-surface-color, white);\n",
              "                }\n",
              "            </style>\n",
              "            "
            ],
            "text/plain": [
              "<IPython.core.display.HTML object>"
            ]
          },
          "metadata": {},
          "output_type": "display_data"
        }
      ],
      "source": [
        "df = pd.read_excel(\"data/bin_chicken.xlsx\")"
      ]
    },
    {
      "cell_type": "code",
      "execution_count": 6,
      "metadata": {},
      "outputs": [
        {
          "data": {
            "text/html": [
              "\n",
              "            <style>\n",
              "                .geemap-dark {\n",
              "                    --jp-widgets-color: white;\n",
              "                    --jp-widgets-label-color: white;\n",
              "                    --jp-ui-font-color1: white;\n",
              "                    --jp-layout-color2: #454545;\n",
              "                    background-color: #383838;\n",
              "                }\n",
              "\n",
              "                .geemap-dark .jupyter-button {\n",
              "                    --jp-layout-color3: #383838;\n",
              "                }\n",
              "\n",
              "                .geemap-colab {\n",
              "                    background-color: var(--colab-primary-surface-color, white);\n",
              "                }\n",
              "\n",
              "                .geemap-colab .jupyter-button {\n",
              "                    --jp-layout-color3: var(--colab-primary-surface-color, white);\n",
              "                }\n",
              "            </style>\n",
              "            "
            ],
            "text/plain": [
              "<IPython.core.display.HTML object>"
            ]
          },
          "metadata": {},
          "output_type": "display_data"
        },
        {
          "data": {
            "text/plain": [
              "Index(['gbifID', 'datasetKey', 'occurrenceID', 'kingdom', 'phylum', 'class',\n",
              "       'order', 'family', 'genus', 'species', 'infraspecificEpithet',\n",
              "       'taxonRank', 'scientificName', 'verbatimScientificName',\n",
              "       'verbatimScientificNameAuthorship', 'countryCode', 'locality',\n",
              "       'stateProvince', 'occurrenceStatus', 'individualCount',\n",
              "       'publishingOrgKey', 'decimalLatitude', 'decimalLongitude',\n",
              "       'coordinateUncertaintyInMeters', 'coordinatePrecision', 'elevation',\n",
              "       'elevationAccuracy', 'depth', 'depthAccuracy', 'eventDate', 'day',\n",
              "       'month', 'year', 'taxonKey', 'speciesKey', 'basisOfRecord',\n",
              "       'institutionCode', 'collectionCode', 'catalogNumber', 'recordNumber',\n",
              "       'identifiedBy', 'dateIdentified', 'license', 'rightsHolder',\n",
              "       'recordedBy', 'typeStatus', 'establishmentMeans', 'lastInterpreted',\n",
              "       'mediaType', 'issue'],\n",
              "      dtype='object')"
            ]
          },
          "execution_count": 6,
          "metadata": {},
          "output_type": "execute_result"
        }
      ],
      "source": [
        "df.columns"
      ]
    },
    {
      "cell_type": "markdown",
      "metadata": {
        "id": "SRrwa4ROghr9"
      },
      "source": [
        "## Collection and Preprocessing of Species Occurrence Data\n",
        "\n",
        "Here is a code to collect data directly through the GBIF API taken from the [Google Earth Engine tutorial](https://developers.google.com/earth-engine/tutorials/community/species-distribution-modeling). The [GBIF API](https://techdocs.gbif.org/en/openapi/) is an interface that allows access to the species distribution data provided by GBIF, enabling users to search, filter, and download data, as well as acquire various information related to species."
      ]
    },
    {
      "cell_type": "code",
      "execution_count": 7,
      "metadata": {
        "id": "oHtKaH0FgXTz"
      },
      "outputs": [
        {
          "data": {
            "text/html": [
              "\n",
              "            <style>\n",
              "                .geemap-dark {\n",
              "                    --jp-widgets-color: white;\n",
              "                    --jp-widgets-label-color: white;\n",
              "                    --jp-ui-font-color1: white;\n",
              "                    --jp-layout-color2: #454545;\n",
              "                    background-color: #383838;\n",
              "                }\n",
              "\n",
              "                .geemap-dark .jupyter-button {\n",
              "                    --jp-layout-color3: #383838;\n",
              "                }\n",
              "\n",
              "                .geemap-colab {\n",
              "                    background-color: var(--colab-primary-surface-color, white);\n",
              "                }\n",
              "\n",
              "                .geemap-colab .jupyter-button {\n",
              "                    --jp-layout-color3: var(--colab-primary-surface-color, white);\n",
              "                }\n",
              "            </style>\n",
              "            "
            ],
            "text/plain": [
              "<IPython.core.display.HTML object>"
            ]
          },
          "metadata": {},
          "output_type": "display_data"
        }
      ],
      "source": [
        "def get_gbif_species_data(species_name, country_code):\n",
        "    \"\"\"\n",
        "    Retrieves observational data for a specific species using the GBIF API and returns it as a pandas DataFrame.\n",
        "\n",
        "    Parameters:\n",
        "    species_name (str): The scientific name of the species to query.\n",
        "    country_code (str): The country code of the where the observation data will be queried.\n",
        "\n",
        "    Returns:\n",
        "    pd.DataFrame: A pandas DataFrame containing the observational data.\n",
        "    \"\"\"\n",
        "    base_url = \"https://api.gbif.org/v1/occurrence/search\"\n",
        "    params = {\n",
        "        \"scientificName\": species_name,\n",
        "        \"country\": country_code,\n",
        "        \"hasCoordinate\": \"true\",\n",
        "        \"basisOfRecord\": \"HUMAN_OBSERVATION\",\n",
        "        \"limit\": 100000,\n",
        "    }\n",
        "\n",
        "    try:\n",
        "        response = requests.get(base_url, params=params)\n",
        "        response.raise_for_status()  # Raises an exception for a response error.\n",
        "        data = response.json()\n",
        "        occurrences = data.get(\"results\", [])\n",
        "\n",
        "        if occurrences:  # If data is present\n",
        "            df = pd.json_normalize(occurrences)\n",
        "            return df\n",
        "        else:\n",
        "            print(\"No data found for the given species and country code.\")\n",
        "            return pd.DataFrame()  # Returns an empty DataFrame\n",
        "    except requests.RequestException as e:\n",
        "        print(f\"Request failed: {e}\")\n",
        "        return pd.DataFrame()  # Returns an empty DataFrame in case of an exception"
      ]
    },
    {
      "cell_type": "markdown",
      "metadata": {
        "id": "Zs5ZUfZUnjZ2"
      },
      "source": [
        "You can try if it works for you, but I only get 300 entries"
      ]
    },
    {
      "cell_type": "code",
      "execution_count": 8,
      "metadata": {
        "id": "Mx-DjtGNnUXk"
      },
      "outputs": [
        {
          "data": {
            "text/html": [
              "\n",
              "            <style>\n",
              "                .geemap-dark {\n",
              "                    --jp-widgets-color: white;\n",
              "                    --jp-widgets-label-color: white;\n",
              "                    --jp-ui-font-color1: white;\n",
              "                    --jp-layout-color2: #454545;\n",
              "                    background-color: #383838;\n",
              "                }\n",
              "\n",
              "                .geemap-dark .jupyter-button {\n",
              "                    --jp-layout-color3: #383838;\n",
              "                }\n",
              "\n",
              "                .geemap-colab {\n",
              "                    background-color: var(--colab-primary-surface-color, white);\n",
              "                }\n",
              "\n",
              "                .geemap-colab .jupyter-button {\n",
              "                    --jp-layout-color3: var(--colab-primary-surface-color, white);\n",
              "                }\n",
              "            </style>\n",
              "            "
            ],
            "text/plain": [
              "<IPython.core.display.HTML object>"
            ]
          },
          "metadata": {},
          "output_type": "display_data"
        }
      ],
      "source": [
        "# Retrieve Bradypus variegatus data\n",
        "#df = get_gbif_species_data(\"Threskiornis aethiopicus (Latham, 1790)\", \"IT\")\n",
        "#df = get_gbif_species_data(\"Bradypus variegatus\")\n",
        "#df  # Display the first row of the DataFrame"
      ]
    },
    {
      "cell_type": "markdown",
      "metadata": {},
      "source": [
        "### 1.1 Data Cleaning"
      ]
    },
    {
      "cell_type": "markdown",
      "metadata": {
        "id": "TEjSEmK3pfe0"
      },
      "source": [
        "Let's slap some geometry on our dataframe and turn it into a geodataframe. I really love geopandas because it is very intuitive to use for pandas users."
      ]
    },
    {
      "cell_type": "code",
      "execution_count": 9,
      "metadata": {
        "id": "qjt0jgJCpALg"
      },
      "outputs": [
        {
          "data": {
            "text/html": [
              "\n",
              "            <style>\n",
              "                .geemap-dark {\n",
              "                    --jp-widgets-color: white;\n",
              "                    --jp-widgets-label-color: white;\n",
              "                    --jp-ui-font-color1: white;\n",
              "                    --jp-layout-color2: #454545;\n",
              "                    background-color: #383838;\n",
              "                }\n",
              "\n",
              "                .geemap-dark .jupyter-button {\n",
              "                    --jp-layout-color3: #383838;\n",
              "                }\n",
              "\n",
              "                .geemap-colab {\n",
              "                    background-color: var(--colab-primary-surface-color, white);\n",
              "                }\n",
              "\n",
              "                .geemap-colab .jupyter-button {\n",
              "                    --jp-layout-color3: var(--colab-primary-surface-color, white);\n",
              "                }\n",
              "            </style>\n",
              "            "
            ],
            "text/plain": [
              "<IPython.core.display.HTML object>"
            ]
          },
          "metadata": {},
          "output_type": "display_data"
        },
        {
          "data": {
            "text/html": [
              "<div>\n",
              "<style scoped>\n",
              "    .dataframe tbody tr th:only-of-type {\n",
              "        vertical-align: middle;\n",
              "    }\n",
              "\n",
              "    .dataframe tbody tr th {\n",
              "        vertical-align: top;\n",
              "    }\n",
              "\n",
              "    .dataframe thead th {\n",
              "        text-align: right;\n",
              "    }\n",
              "</style>\n",
              "<table border=\"1\" class=\"dataframe\">\n",
              "  <thead>\n",
              "    <tr style=\"text-align: right;\">\n",
              "      <th></th>\n",
              "      <th>species</th>\n",
              "      <th>year</th>\n",
              "      <th>month</th>\n",
              "      <th>geometry</th>\n",
              "    </tr>\n",
              "  </thead>\n",
              "  <tbody>\n",
              "    <tr>\n",
              "      <th>0</th>\n",
              "      <td>Threskiornis aethiopicus</td>\n",
              "      <td>2006</td>\n",
              "      <td>2</td>\n",
              "      <td>POINT (11.2842 42.42878)</td>\n",
              "    </tr>\n",
              "    <tr>\n",
              "      <th>1</th>\n",
              "      <td>Threskiornis aethiopicus</td>\n",
              "      <td>2025</td>\n",
              "      <td>5</td>\n",
              "      <td>POINT (12.32541 45.04476)</td>\n",
              "    </tr>\n",
              "  </tbody>\n",
              "</table>\n",
              "</div>"
            ],
            "text/plain": [
              "                    species  year  month                   geometry\n",
              "0  Threskiornis aethiopicus  2006      2   POINT (11.2842 42.42878)\n",
              "1  Threskiornis aethiopicus  2025      5  POINT (12.32541 45.04476)"
            ]
          },
          "execution_count": 9,
          "metadata": {},
          "output_type": "execute_result"
        }
      ],
      "source": [
        "# Convert DataFrame to GeoDataFrame\n",
        "gdf = gpd.GeoDataFrame(\n",
        "    df,\n",
        "    geometry=gpd.points_from_xy(df.decimalLongitude,\n",
        "                                df.decimalLatitude),\n",
        "    crs=\"EPSG:4326\"\n",
        ")[[\"species\", \"year\", \"month\", \"geometry\"]]\n",
        "gdf.head(2)  # Display the first row of the GeoDataFrame"
      ]
    },
    {
      "cell_type": "markdown",
      "metadata": {
        "id": "5Lj919AaqmUq"
      },
      "source": [
        "Here is a function to create heatmaps from the GEE tutorial. I think I have only created heatmaps with the seaborn library which would make this whole function a 2 liner, but why not use what is already coded up."
      ]
    },
    {
      "cell_type": "code",
      "execution_count": null,
      "metadata": {
        "id": "Iju-dNZErzkJ"
      },
      "outputs": [
        {
          "data": {
            "text/html": [
              "\n",
              "            <style>\n",
              "                .geemap-dark {\n",
              "                    --jp-widgets-color: white;\n",
              "                    --jp-widgets-label-color: white;\n",
              "                    --jp-ui-font-color1: white;\n",
              "                    --jp-layout-color2: #454545;\n",
              "                    background-color: #383838;\n",
              "                }\n",
              "\n",
              "                .geemap-dark .jupyter-button {\n",
              "                    --jp-layout-color3: #383838;\n",
              "                }\n",
              "\n",
              "                .geemap-colab {\n",
              "                    background-color: var(--colab-primary-surface-color, white);\n",
              "                }\n",
              "\n",
              "                .geemap-colab .jupyter-button {\n",
              "                    --jp-layout-color3: var(--colab-primary-surface-color, white);\n",
              "                }\n",
              "            </style>\n",
              "            "
            ],
            "text/plain": [
              "<IPython.core.display.HTML object>"
            ]
          },
          "metadata": {},
          "output_type": "display_data"
        }
      ],
      "source": [
        "# Yearly and monthly data distribution heatmap\n",
        "def plot_heatmap(gdf, h_size=14):\n",
        "\n",
        "    statistics = gdf.groupby([\"month\", \"year\"]).size().unstack(fill_value=0)\n",
        "\n",
        "    # Heatmap\n",
        "    plt.figure(figsize=(h_size, h_size - 6))\n",
        "    heatmap = plt.imshow(\n",
        "        statistics.values, cmap=\"YlOrBr\", origin=\"upper\", aspect=\"auto\"\n",
        "    )\n",
        "\n",
        "    # Display values above each pixel\n",
        "    for i in range(len(statistics.index)):\n",
        "        for j in range(len(statistics.columns)):\n",
        "            plt.text(\n",
        "                j, i, statistics.values[i, j], ha=\"center\", va=\"center\", color=\"black\"\n",
        "            )\n",
        "\n",
        "    plt.colorbar(heatmap, label=\"Count\")\n",
        "    plt.title(\"Monthly Species Count by Year\")\n",
        "    plt.xlabel(\"Year\")\n",
        "    plt.ylabel(\"Month\")\n",
        "    plt.xticks(range(len(statistics.columns)), statistics.columns)\n",
        "    plt.yticks(range(len(statistics.index)), statistics.index)\n",
        "    plt.tight_layout()\n",
        "    plt.savefig(\"output/heatmap_plot.png\")\n",
        "    plt.show()"
      ]
    },
    {
      "cell_type": "code",
      "execution_count": 11,
      "metadata": {
        "id": "dlW1nIQZrjx3"
      },
      "outputs": [
        {
          "data": {
            "text/html": [
              "\n",
              "            <style>\n",
              "                .geemap-dark {\n",
              "                    --jp-widgets-color: white;\n",
              "                    --jp-widgets-label-color: white;\n",
              "                    --jp-ui-font-color1: white;\n",
              "                    --jp-layout-color2: #454545;\n",
              "                    background-color: #383838;\n",
              "                }\n",
              "\n",
              "                .geemap-dark .jupyter-button {\n",
              "                    --jp-layout-color3: #383838;\n",
              "                }\n",
              "\n",
              "                .geemap-colab {\n",
              "                    background-color: var(--colab-primary-surface-color, white);\n",
              "                }\n",
              "\n",
              "                .geemap-colab .jupyter-button {\n",
              "                    --jp-layout-color3: var(--colab-primary-surface-color, white);\n",
              "                }\n",
              "            </style>\n",
              "            "
            ],
            "text/plain": [
              "<IPython.core.display.HTML object>"
            ]
          },
          "metadata": {},
          "output_type": "display_data"
        },
        {
          "data": {
            "image/png": "[encoded data removed]",
            "text/plain": [
              "<Figure size 1400x800 with 2 Axes>"
            ]
          },
          "metadata": {},
          "output_type": "display_data"
        }
      ],
      "source": [
        "plot_heatmap(gdf)"
      ]
    },
    {
      "cell_type": "markdown",
      "metadata": {
        "id": "vIj9CO1RrCSs"
      },
      "source": [
        "There is very sparse information before 2015 and then 2023 was crazy. If we were to do any work with the time component, we might need to think about how to deal with these, but we should be fine just continuing like this"
      ]
    },
    {
      "cell_type": "code",
      "execution_count": 12,
      "metadata": {
        "id": "Fxu0OsBksMKM"
      },
      "outputs": [
        {
          "data": {
            "text/html": [
              "\n",
              "            <style>\n",
              "                .geemap-dark {\n",
              "                    --jp-widgets-color: white;\n",
              "                    --jp-widgets-label-color: white;\n",
              "                    --jp-ui-font-color1: white;\n",
              "                    --jp-layout-color2: #454545;\n",
              "                    background-color: #383838;\n",
              "                }\n",
              "\n",
              "                .geemap-dark .jupyter-button {\n",
              "                    --jp-layout-color3: #383838;\n",
              "                }\n",
              "\n",
              "                .geemap-colab {\n",
              "                    background-color: var(--colab-primary-surface-color, white);\n",
              "                }\n",
              "\n",
              "                .geemap-colab .jupyter-button {\n",
              "                    --jp-layout-color3: var(--colab-primary-surface-color, white);\n",
              "                }\n",
              "            </style>\n",
              "            "
            ],
            "text/plain": [
              "<IPython.core.display.HTML object>"
            ]
          },
          "metadata": {},
          "output_type": "display_data"
        }
      ],
      "source": [
        "# Convert GeoDataFrame to Earth Engine object\n",
        "data_raw = geemap.geopandas_to_ee(gdf)"
      ]
    },
    {
      "cell_type": "markdown",
      "metadata": {
        "id": "55p_GfB6sv3U"
      },
      "source": [
        "Next, we will define the raster pixel size of the SDM results as 1km resolution."
      ]
    },
    {
      "cell_type": "code",
      "execution_count": 13,
      "metadata": {
        "id": "FsTbNQ17s1l-"
      },
      "outputs": [
        {
          "data": {
            "text/html": [
              "\n",
              "            <style>\n",
              "                .geemap-dark {\n",
              "                    --jp-widgets-color: white;\n",
              "                    --jp-widgets-label-color: white;\n",
              "                    --jp-ui-font-color1: white;\n",
              "                    --jp-layout-color2: #454545;\n",
              "                    background-color: #383838;\n",
              "                }\n",
              "\n",
              "                .geemap-dark .jupyter-button {\n",
              "                    --jp-layout-color3: #383838;\n",
              "                }\n",
              "\n",
              "                .geemap-colab {\n",
              "                    background-color: var(--colab-primary-surface-color, white);\n",
              "                }\n",
              "\n",
              "                .geemap-colab .jupyter-button {\n",
              "                    --jp-layout-color3: var(--colab-primary-surface-color, white);\n",
              "                }\n",
              "            </style>\n",
              "            "
            ],
            "text/plain": [
              "<IPython.core.display.HTML object>"
            ]
          },
          "metadata": {},
          "output_type": "display_data"
        }
      ],
      "source": [
        "# Spatial resolution setting (meters)\n",
        "grain_size = 1000"
      ]
    },
    {
      "cell_type": "markdown",
      "metadata": {
        "id": "A20gAGUZtN6S"
      },
      "source": [
        "In our analysis, we divide Italy into 1 square km cells and then decide if there has been a sighting in one of these cells or not. So if there are multiple sightings per cell, we can remove the duplicates. Or in other words, our sightings data will have the same resolution as our environmental variables."
      ]
    },
    {
      "cell_type": "code",
      "execution_count": 14,
      "metadata": {
        "id": "dHtyQyMQs82v"
      },
      "outputs": [
        {
          "data": {
            "text/html": [
              "\n",
              "            <style>\n",
              "                .geemap-dark {\n",
              "                    --jp-widgets-color: white;\n",
              "                    --jp-widgets-label-color: white;\n",
              "                    --jp-ui-font-color1: white;\n",
              "                    --jp-layout-color2: #454545;\n",
              "                    background-color: #383838;\n",
              "                }\n",
              "\n",
              "                .geemap-dark .jupyter-button {\n",
              "                    --jp-layout-color3: #383838;\n",
              "                }\n",
              "\n",
              "                .geemap-colab {\n",
              "                    background-color: var(--colab-primary-surface-color, white);\n",
              "                }\n",
              "\n",
              "                .geemap-colab .jupyter-button {\n",
              "                    --jp-layout-color3: var(--colab-primary-surface-color, white);\n",
              "                }\n",
              "            </style>\n",
              "            "
            ],
            "text/plain": [
              "<IPython.core.display.HTML object>"
            ]
          },
          "metadata": {},
          "output_type": "display_data"
        },
        {
          "name": "stdout",
          "output_type": "stream",
          "text": [
            "Original data size: 5732\n",
            "Final data size: 2035\n"
          ]
        }
      ],
      "source": [
        "# This could probably be done in the gdf, but well the code was already provided in the tutorial\n",
        "def remove_duplicates(data, grain_size):\n",
        "    # Select one occurrence record per pixel at the chosen spatial resolution\n",
        "    random_raster = ee.Image.random().reproject(\"EPSG:4326\", None, grain_size)\n",
        "    rand_point_vals = random_raster.sampleRegions(\n",
        "        collection=ee.FeatureCollection(data), geometries=True\n",
        "    )\n",
        "    return rand_point_vals.distinct(\"random\")\n",
        "\n",
        "\n",
        "data = remove_duplicates(data_raw, grain_size)\n",
        "\n",
        "# Before selection and after selection\n",
        "print(\"Original data size:\", data_raw.size().getInfo())\n",
        "print(\"Final data size:\", data.size().getInfo())"
      ]
    },
    {
      "cell_type": "markdown",
      "metadata": {},
      "source": [
        "### 1.2 Data Visualisation"
      ]
    },
    {
      "cell_type": "markdown",
      "metadata": {
        "id": "Rhu4b4BxuMHE"
      },
      "source": [
        "The visualization comparing geographic sampling bias before preprocessing (in blue) and after preprocessing (in red) is shown below. To facilitate comparison, the map has been centered on the area with a high concentration of Fairy pitta occurrence coordinates in Hallasan National Park."
      ]
    },
    {
      "cell_type": "code",
      "execution_count": 15,
      "metadata": {},
      "outputs": [
        {
          "data": {
            "text/html": [
              "\n",
              "            <style>\n",
              "                .geemap-dark {\n",
              "                    --jp-widgets-color: white;\n",
              "                    --jp-widgets-label-color: white;\n",
              "                    --jp-ui-font-color1: white;\n",
              "                    --jp-layout-color2: #454545;\n",
              "                    background-color: #383838;\n",
              "                }\n",
              "\n",
              "                .geemap-dark .jupyter-button {\n",
              "                    --jp-layout-color3: #383838;\n",
              "                }\n",
              "\n",
              "                .geemap-colab {\n",
              "                    background-color: var(--colab-primary-surface-color, white);\n",
              "                }\n",
              "\n",
              "                .geemap-colab .jupyter-button {\n",
              "                    --jp-layout-color3: var(--colab-primary-surface-color, white);\n",
              "                }\n",
              "            </style>\n",
              "            "
            ],
            "text/plain": [
              "<IPython.core.display.HTML object>"
            ]
          },
          "metadata": {},
          "output_type": "display_data"
        }
      ],
      "source": [
        "# And let's convert the GEE object back to a gdf.\n",
        "gdf_species = geemap.ee_to_gdf(data)"
      ]
    },
    {
      "cell_type": "markdown",
      "metadata": {},
      "source": [
        "We define our **Area of Interest (AOI)**. Ideally, we would get the outline of Italy, but a lazy solution is taking our occurence data and putting an 50km buffer around it. (We could think about using the Italian border instead, but a couple cells below I show how to use a shapefile to mask raster data)"
      ]
    },
    {
      "cell_type": "code",
      "execution_count": 16,
      "metadata": {
        "id": "XIyhhdzUvyZw"
      },
      "outputs": [
        {
          "data": {
            "text/html": [
              "\n",
              "            <style>\n",
              "                .geemap-dark {\n",
              "                    --jp-widgets-color: white;\n",
              "                    --jp-widgets-label-color: white;\n",
              "                    --jp-ui-font-color1: white;\n",
              "                    --jp-layout-color2: #454545;\n",
              "                    background-color: #383838;\n",
              "                }\n",
              "\n",
              "                .geemap-dark .jupyter-button {\n",
              "                    --jp-layout-color3: #383838;\n",
              "                }\n",
              "\n",
              "                .geemap-colab {\n",
              "                    background-color: var(--colab-primary-surface-color, white);\n",
              "                }\n",
              "\n",
              "                .geemap-colab .jupyter-button {\n",
              "                    --jp-layout-color3: var(--colab-primary-surface-color, white);\n",
              "                }\n",
              "            </style>\n",
              "            "
            ],
            "text/plain": [
              "<IPython.core.display.HTML object>"
            ]
          },
          "metadata": {},
          "output_type": "display_data"
        },
        {
          "data": {
            "text/plain": [
              "'\\n# Add the AOI to the map\\noutline = ee.Image().byte().paint(\\n    featureCollection=aoi, color=1, width=3)\\n\\nMap.remove_layer(\"Random Raster\")\\nMap.addLayer(outline, {\\'palette\\': \\'FF0000\\'}, \"AOI\")\\nMap.centerObject(aoi, 6)\\nMap\\n'"
            ]
          },
          "execution_count": 16,
          "metadata": {},
          "output_type": "execute_result"
        }
      ],
      "source": [
        "# Define the AOI\n",
        "aoi = data.geometry().bounds().buffer(distance=50000, maxError=1000)\n",
        "\n",
        "# uncomment to check the bounds\n",
        "'''\n",
        "# Add the AOI to the map\n",
        "outline = ee.Image().byte().paint(\n",
        "    featureCollection=aoi, color=1, width=3)\n",
        "\n",
        "Map.remove_layer(\"Random Raster\")\n",
        "Map.addLayer(outline, {'palette': 'FF0000'}, \"AOI\")\n",
        "Map.centerObject(aoi, 6)\n",
        "Map\n",
        "'''"
      ]
    },
    {
      "cell_type": "markdown",
      "metadata": {},
      "source": [
        "### (1.3 Optional) Animation showing the Sacred Ibis observations with time."
      ]
    },
    {
      "cell_type": "code",
      "execution_count": 17,
      "metadata": {},
      "outputs": [
        {
          "data": {
            "text/html": [
              "\n",
              "            <style>\n",
              "                .geemap-dark {\n",
              "                    --jp-widgets-color: white;\n",
              "                    --jp-widgets-label-color: white;\n",
              "                    --jp-ui-font-color1: white;\n",
              "                    --jp-layout-color2: #454545;\n",
              "                    background-color: #383838;\n",
              "                }\n",
              "\n",
              "                .geemap-dark .jupyter-button {\n",
              "                    --jp-layout-color3: #383838;\n",
              "                }\n",
              "\n",
              "                .geemap-colab {\n",
              "                    background-color: var(--colab-primary-surface-color, white);\n",
              "                }\n",
              "\n",
              "                .geemap-colab .jupyter-button {\n",
              "                    --jp-layout-color3: var(--colab-primary-surface-color, white);\n",
              "                }\n",
              "            </style>\n",
              "            "
            ],
            "text/plain": [
              "<IPython.core.display.HTML object>"
            ]
          },
          "metadata": {},
          "output_type": "display_data"
        },
        {
          "data": {
            "text/plain": [
              "'\\nfrom matplotlib.animation import FuncAnimation\\nimport contextily as ctx  # for satellite background\\nimport matplotlib.colors as mcolors\\n\\nyears = sorted(gdf_species[\\'year\\'].unique())\\ncmap = plt.cm.plasma\\nnorm = mcolors.Normalize(vmin=min(years), vmax=max(years))\\n\\ngdf_ani = gdf_species.to_crs(epsg=3857)\\n\\n# Generate quarters and colors\\ngdf_ani[\\'year_quarter\\'] = (\\n    pd.to_datetime(gdf[[\\'year\\', \\'month\\']].assign(day=1))\\n    .dt.to_period(\\'Q\\')\\n    .astype(str)\\n)\\nquarters = sorted(gdf_ani[\\'year_quarter\\'].unique())\\ncolors = cm.viridis(np.linspace(0, 1, len(quarters)))\\nquarter_color_map = dict(zip(quarters, colors))\\n\\ngdf_bounds = gdf_ani.total_bounds  # [minx, miny, maxx, maxy]\\n\\n# Set up the figure\\nfig, ax = plt.subplots(figsize=(7, 7), dpi=72)\\n\\n\\ndef update(frame):\\n    ax.clear()\\n    ax.set_xlim(gdf_bounds[0], gdf_bounds[2])\\n    ax.set_ylim(gdf_bounds[1], gdf_bounds[3])\\n    current_quarter = quarters[frame]\\n    for i, quarter in enumerate(quarters[:frame+1]):\\n        subset = gdf[gdf[\\'year_quarter\\'] == quarter]\\n        subset.plot(ax=ax, color=quarter_color_map[quarter], markersize=10, label=quarter if i == frame else \"\")\\n    ctx.add_basemap(ax, source=ctx.providers.Esri.WorldImagery)\\n    #ctx.add_basemap(ax, source=ctx.providers.Stamen.TonerLite)\\n    ax.set_title(f\"Ibis Spread: {current_quarter}\", fontsize=16)\\n    ax.axis(\\'off\\')\\n\\nani = animation.FuncAnimation(fig, update, frames=len(quarters), repeat=False)\\n\\n# Save animation\\nani.save(\"ibis_spread_quarters.gif\", writer=\\'pillow\\', fps=2)\\n\\nfrom IPython.display import HTML\\nHTML(ani.to_jshtml())\\n'"
            ]
          },
          "execution_count": 17,
          "metadata": {},
          "output_type": "execute_result"
        }
      ],
      "source": [
        "'''\n",
        "from matplotlib.animation import FuncAnimation\n",
        "import contextily as ctx  # for satellite background\n",
        "import matplotlib.colors as mcolors\n",
        "\n",
        "years = sorted(gdf_species['year'].unique())\n",
        "cmap = plt.cm.plasma\n",
        "norm = mcolors.Normalize(vmin=min(years), vmax=max(years))\n",
        "\n",
        "gdf_ani = gdf_species.to_crs(epsg=3857)\n",
        "\n",
        "# Generate quarters and colors\n",
        "gdf_ani['year_quarter'] = (\n",
        "    pd.to_datetime(gdf[['year', 'month']].assign(day=1))\n",
        "    .dt.to_period('Q')\n",
        "    .astype(str)\n",
        ")\n",
        "quarters = sorted(gdf_ani['year_quarter'].unique())\n",
        "colors = cm.viridis(np.linspace(0, 1, len(quarters)))\n",
        "quarter_color_map = dict(zip(quarters, colors))\n",
        "\n",
        "gdf_bounds = gdf_ani.total_bounds  # [minx, miny, maxx, maxy]\n",
        "\n",
        "# Set up the figure\n",
        "fig, ax = plt.subplots(figsize=(7, 7), dpi=72)\n",
        "\n",
        "\n",
        "def update(frame):\n",
        "    ax.clear()\n",
        "    ax.set_xlim(gdf_bounds[0], gdf_bounds[2])\n",
        "    ax.set_ylim(gdf_bounds[1], gdf_bounds[3])\n",
        "    current_quarter = quarters[frame]\n",
        "    for i, quarter in enumerate(quarters[:frame+1]):\n",
        "        subset = gdf[gdf['year_quarter'] == quarter]\n",
        "        subset.plot(ax=ax, color=quarter_color_map[quarter], markersize=10, label=quarter if i == frame else \"\")\n",
        "    ctx.add_basemap(ax, source=ctx.providers.Esri.WorldImagery)\n",
        "    #ctx.add_basemap(ax, source=ctx.providers.Stamen.TonerLite)\n",
        "    ax.set_title(f\"Ibis Spread: {current_quarter}\", fontsize=16)\n",
        "    ax.axis('off')\n",
        "\n",
        "ani = animation.FuncAnimation(fig, update, frames=len(quarters), repeat=False)\n",
        "\n",
        "# Save animation\n",
        "ani.save(\"ibis_spread_quarters.gif\", writer='pillow', fps=2)\n",
        "\n",
        "from IPython.display import HTML\n",
        "HTML(ani.to_jshtml())\n",
        "'''"
      ]
    },
    {
      "cell_type": "markdown",
      "metadata": {
        "id": "fWsplwHD8ZFd"
      },
      "source": [
        "# 2 Addition of GEE environmental variables"
      ]
    },
    {
      "cell_type": "markdown",
      "metadata": {},
      "source": [
        "Now, let's add environmental variables to the analysis. GEE provides a wide range of datasets for environmental variables such as temperature, precipitation, elevation, land cover, and terrain. These datasets enable us to comprehensively analyze various factors that may influence the habitat preferences of the Fairy pitta.\n",
        "\n",
        "The selection of GEE environmental variables in SDM should reflect the habitat preference characteristics of the species. Should. We will use the standard set of variables and hope it will work. If we did some more research this would be a Nature publication. Let's keep it on a blog post tutorial level.\n"
      ]
    },
    {
      "cell_type": "markdown",
      "metadata": {},
      "source": [
        "### 2.1 Download the Data"
      ]
    },
    {
      "cell_type": "markdown",
      "metadata": {},
      "source": [
        "[**WorldClim V1 Bioclim**](https://developers.google.com/earth-engine/datasets/catalog/WORLDCLIM_V1_BIO): This dataset provides 19 bioclimatic variables derived from monthly temperature and precipitation data. It covers the period from 1960 to 1991 and has a resolution of 927.67 meters."
      ]
    },
    {
      "cell_type": "code",
      "execution_count": 18,
      "metadata": {},
      "outputs": [
        {
          "data": {
            "text/html": [
              "\n",
              "            <style>\n",
              "                .geemap-dark {\n",
              "                    --jp-widgets-color: white;\n",
              "                    --jp-widgets-label-color: white;\n",
              "                    --jp-ui-font-color1: white;\n",
              "                    --jp-layout-color2: #454545;\n",
              "                    background-color: #383838;\n",
              "                }\n",
              "\n",
              "                .geemap-dark .jupyter-button {\n",
              "                    --jp-layout-color3: #383838;\n",
              "                }\n",
              "\n",
              "                .geemap-colab {\n",
              "                    background-color: var(--colab-primary-surface-color, white);\n",
              "                }\n",
              "\n",
              "                .geemap-colab .jupyter-button {\n",
              "                    --jp-layout-color3: var(--colab-primary-surface-color, white);\n",
              "                }\n",
              "            </style>\n",
              "            "
            ],
            "text/plain": [
              "<IPython.core.display.HTML object>"
            ]
          },
          "metadata": {},
          "output_type": "display_data"
        }
      ],
      "source": [
        "# WorldClim V1 Bioclim\n",
        "bio = ee.Image(\"WORLDCLIM/V1/BIO\")"
      ]
    },
    {
      "cell_type": "markdown",
      "metadata": {
        "id": "AzrCwWu39iLw"
      },
      "source": [
        "[**NASA SRTM Digital Elevation 30m**](https://developers.google.com/earth-engine/datasets/catalog/USGS_SRTMGL1_003): This dataset contains digital elevation data from the Shuttle Radar Topography Mission (SRTM). The data was primarily collected around the year 2000 and is provided at a resolution of approximately 30 meters (1 arc-second). The following code calculates elevation, slope, aspect, and hillshade layers from the SRTM data."
      ]
    },
    {
      "cell_type": "code",
      "execution_count": 19,
      "metadata": {
        "id": "O8lPyhWv9hHn"
      },
      "outputs": [
        {
          "data": {
            "text/html": [
              "\n",
              "            <style>\n",
              "                .geemap-dark {\n",
              "                    --jp-widgets-color: white;\n",
              "                    --jp-widgets-label-color: white;\n",
              "                    --jp-ui-font-color1: white;\n",
              "                    --jp-layout-color2: #454545;\n",
              "                    background-color: #383838;\n",
              "                }\n",
              "\n",
              "                .geemap-dark .jupyter-button {\n",
              "                    --jp-layout-color3: #383838;\n",
              "                }\n",
              "\n",
              "                .geemap-colab {\n",
              "                    background-color: var(--colab-primary-surface-color, white);\n",
              "                }\n",
              "\n",
              "                .geemap-colab .jupyter-button {\n",
              "                    --jp-layout-color3: var(--colab-primary-surface-color, white);\n",
              "                }\n",
              "            </style>\n",
              "            "
            ],
            "text/plain": [
              "<IPython.core.display.HTML object>"
            ]
          },
          "metadata": {},
          "output_type": "display_data"
        }
      ],
      "source": [
        "# NASA SRTM Digital Elevation 30m\n",
        "terrain = ee.Algorithms.Terrain(ee.Image(\"USGS/SRTMGL1_003\"))"
      ]
    },
    {
      "cell_type": "markdown",
      "metadata": {
        "id": "H-kFHdWP9_3N"
      },
      "source": [
        "[**Global Forest Cover Change (GFCC) Tree Cover Multi-Year Global 30m**](https://developers.google.com/earth-engine/datasets/catalog/NASA_MEASURES_GFCC_TC_v3): The Vegetation Continuous Fields (VCF) dataset from Landsat estimates the proportion of vertically projected vegetation cover when the vegetation height is greater than 5 meters. This dataset is provided for four time periods centered around the years 2000, 2005, 2010, and 2015, with a resolution of 30 meters. Here, the median values from these four time periods are used."
      ]
    },
    {
      "cell_type": "code",
      "execution_count": 20,
      "metadata": {
        "id": "-ymsifA098H6"
      },
      "outputs": [
        {
          "data": {
            "text/html": [
              "\n",
              "            <style>\n",
              "                .geemap-dark {\n",
              "                    --jp-widgets-color: white;\n",
              "                    --jp-widgets-label-color: white;\n",
              "                    --jp-ui-font-color1: white;\n",
              "                    --jp-layout-color2: #454545;\n",
              "                    background-color: #383838;\n",
              "                }\n",
              "\n",
              "                .geemap-dark .jupyter-button {\n",
              "                    --jp-layout-color3: #383838;\n",
              "                }\n",
              "\n",
              "                .geemap-colab {\n",
              "                    background-color: var(--colab-primary-surface-color, white);\n",
              "                }\n",
              "\n",
              "                .geemap-colab .jupyter-button {\n",
              "                    --jp-layout-color3: var(--colab-primary-surface-color, white);\n",
              "                }\n",
              "            </style>\n",
              "            "
            ],
            "text/plain": [
              "<IPython.core.display.HTML object>"
            ]
          },
          "metadata": {},
          "output_type": "display_data"
        }
      ],
      "source": [
        "# Global Forest Cover Change (GFCC) Tree Cover Multi-Year Global 30m\n",
        "tcc = ee.ImageCollection(\"NASA/MEASURES/GFCC/TC/v3\")\n",
        "median_tcc = (\n",
        "    tcc.filterDate(\"2000-01-01\", \"2020-12-31\")\n",
        "    .select([\"tree_canopy_cover\"], [\"TCC\"])\n",
        "    .median()\n",
        ")"
      ]
    },
    {
      "cell_type": "markdown",
      "metadata": {},
      "source": [
        "### 2.2 Apply the water mask"
      ]
    },
    {
      "cell_type": "markdown",
      "metadata": {
        "id": "CMrmqQ5X-uOB"
      },
      "source": [
        "As we are looking at birds, we are only interest in land habitat. One option is to use the elevation and everything below sea level is classified as water, but these birds love their wetlands. And wetlands can be below the sea level. Therefore, we are using land polygons that are also available on GEE and mask our image and clip to the aoi."
      ]
    },
    {
      "cell_type": "code",
      "execution_count": 21,
      "metadata": {
        "id": "gSbuqe6k-k6B"
      },
      "outputs": [
        {
          "data": {
            "text/html": [
              "\n",
              "            <style>\n",
              "                .geemap-dark {\n",
              "                    --jp-widgets-color: white;\n",
              "                    --jp-widgets-label-color: white;\n",
              "                    --jp-ui-font-color1: white;\n",
              "                    --jp-layout-color2: #454545;\n",
              "                    background-color: #383838;\n",
              "                }\n",
              "\n",
              "                .geemap-dark .jupyter-button {\n",
              "                    --jp-layout-color3: #383838;\n",
              "                }\n",
              "\n",
              "                .geemap-colab {\n",
              "                    background-color: var(--colab-primary-surface-color, white);\n",
              "                }\n",
              "\n",
              "                .geemap-colab .jupyter-button {\n",
              "                    --jp-layout-color3: var(--colab-primary-surface-color, white);\n",
              "                }\n",
              "            </style>\n",
              "            "
            ],
            "text/plain": [
              "<IPython.core.display.HTML object>"
            ]
          },
          "metadata": {},
          "output_type": "display_data"
        }
      ],
      "source": [
        "# Combine bands into a multi-band image\n",
        "predictors = bio.addBands(terrain).addBands(median_tcc)\n",
        "\n",
        "# Load land polygons (Natural Earth via Earth Engine)\n",
        "land = ee.FeatureCollection(\"USDOS/LSIB_SIMPLE/2017\") \\\n",
        "    .filter(ee.Filter.neq(\"wld_rgn\", \"Ocean\"))\n",
        "\n",
        "land_masked_image = predictors.clipToCollection(land)\n",
        "\n",
        "# Load land polygons (Natural Earth via Earth Engine)\n",
        "italy_borders = ee.FeatureCollection(\"FAO/GAUL/2015/level0\") \\\n",
        "    .filter(ee.Filter.eq('ADM0_NAME', 'Italy'))\n",
        "predictors = land_masked_image.clipToCollection(italy_borders)\n",
        "\n",
        "bbox = ee.Geometry.Rectangle([6.219524304531973, 36.60367679727342, 18.553063853943627, 47.157212045624846])\n",
        "predictors = predictors.clip(bbox)\n",
        "\n",
        "# Create land mask (invert water)\n",
        "#land_mask = water_mask.Not()\n",
        "\n",
        "# Create a water mask\n",
        "watermask = terrain.select('elevation').gt(0)\n",
        "\n",
        "# Mask out ocean pixels and clip to the area of interest\n",
        "#predictors = predictors.updateMask(watermask).clip(aoi)"
      ]
    },
    {
      "cell_type": "markdown",
      "metadata": {},
      "source": [
        "Let's visualise our data and if the mask is working. The area around Venice is a bit tricky because it is below see level.\n",
        "\n",
        "The results look good enough."
      ]
    },
    {
      "cell_type": "code",
      "execution_count": 22,
      "metadata": {},
      "outputs": [
        {
          "data": {
            "text/html": [
              "\n",
              "            <style>\n",
              "                .geemap-dark {\n",
              "                    --jp-widgets-color: white;\n",
              "                    --jp-widgets-label-color: white;\n",
              "                    --jp-ui-font-color1: white;\n",
              "                    --jp-layout-color2: #454545;\n",
              "                    background-color: #383838;\n",
              "                }\n",
              "\n",
              "                .geemap-dark .jupyter-button {\n",
              "                    --jp-layout-color3: #383838;\n",
              "                }\n",
              "\n",
              "                .geemap-colab {\n",
              "                    background-color: var(--colab-primary-surface-color, white);\n",
              "                }\n",
              "\n",
              "                .geemap-colab .jupyter-button {\n",
              "                    --jp-layout-color3: var(--colab-primary-surface-color, white);\n",
              "                }\n",
              "            </style>\n",
              "            "
            ],
            "text/plain": [
              "<IPython.core.display.HTML object>"
            ]
          },
          "metadata": {},
          "output_type": "display_data"
        },
        {
          "data": {
            "application/vnd.jupyter.widget-view+json": {
              "model_id": "502ab3076c5d459ea60e9c0bedf25d91",
              "version_major": 2,
              "version_minor": 0
            },
            "text/plain": [
              "Map(center=[41.85338927205686, 12.83692539095223], controls=(WidgetControl(options=['position', 'transparent_b…"
            ]
          },
          "metadata": {},
          "output_type": "display_data"
        }
      ],
      "source": [
        "# Let's check if our masking worked alright\n",
        "Map = geemap.Map(layout={\"height\": \"400px\", \"width\": \"800px\"})\n",
        "\n",
        "image_viz_params = {\n",
        "    'bands': ['elevation'],\n",
        "    'min': -2.0,\n",
        "    'max': 2500.0,\n",
        "    'palette': ['0000ff','00ffff','ffff00','ff0000','ffffff']\n",
        "}\n",
        "Map.addLayer(predictors, image_viz_params, \"Land Only Image\")\n",
        "# Add the final data layer in red\n",
        "Map.addLayer(data, {\"color\": \"red\"}, \"Data\")\n",
        "\n",
        "# Set the center of the map to the coordinates\n",
        "#Map.setCenter(126.712, 33.516, 14)\n",
        "Map.centerObject(aoi, 5)\n",
        "Map"
      ]
    },
    {
      "cell_type": "markdown",
      "metadata": {},
      "source": [
        "### 2.3 Multicolinearity"
      ]
    },
    {
      "cell_type": "markdown",
      "metadata": {
        "id": "WmuXiScSAlxX"
      },
      "source": [
        "Now, we take care of the correlation between our predictors variables. If there is a strong correlation between our variables, then this can mess with out regression modelling (see Multicollinearity). We reduce the predictor variables to only those that are not strongly correlated.\n",
        "\n",
        "This also has the added side effect that our model will be easier to train with less dimensions.\n",
        "\n",
        "The way to go is generate a large sample of random points (5,000 points for example) and extract the predictors at these points and calculate the correlation."
      ]
    },
    {
      "cell_type": "code",
      "execution_count": 23,
      "metadata": {
        "id": "vYLvzPDwAeyk"
      },
      "outputs": [
        {
          "data": {
            "text/html": [
              "\n",
              "            <style>\n",
              "                .geemap-dark {\n",
              "                    --jp-widgets-color: white;\n",
              "                    --jp-widgets-label-color: white;\n",
              "                    --jp-ui-font-color1: white;\n",
              "                    --jp-layout-color2: #454545;\n",
              "                    background-color: #383838;\n",
              "                }\n",
              "\n",
              "                .geemap-dark .jupyter-button {\n",
              "                    --jp-layout-color3: #383838;\n",
              "                }\n",
              "\n",
              "                .geemap-colab {\n",
              "                    background-color: var(--colab-primary-surface-color, white);\n",
              "                }\n",
              "\n",
              "                .geemap-colab .jupyter-button {\n",
              "                    --jp-layout-color3: var(--colab-primary-surface-color, white);\n",
              "                }\n",
              "            </style>\n",
              "            "
            ],
            "text/plain": [
              "<IPython.core.display.HTML object>"
            ]
          },
          "metadata": {},
          "output_type": "display_data"
        },
        {
          "data": {
            "text/html": [
              "<div>\n",
              "<style scoped>\n",
              "    .dataframe tbody tr th:only-of-type {\n",
              "        vertical-align: middle;\n",
              "    }\n",
              "\n",
              "    .dataframe tbody tr th {\n",
              "        vertical-align: top;\n",
              "    }\n",
              "\n",
              "    .dataframe thead th {\n",
              "        text-align: right;\n",
              "    }\n",
              "</style>\n",
              "<table border=\"1\" class=\"dataframe\">\n",
              "  <thead>\n",
              "    <tr style=\"text-align: right;\">\n",
              "      <th></th>\n",
              "      <th>TCC</th>\n",
              "      <th>aspect</th>\n",
              "      <th>bio01</th>\n",
              "      <th>bio02</th>\n",
              "      <th>bio03</th>\n",
              "      <th>bio04</th>\n",
              "      <th>bio05</th>\n",
              "      <th>bio06</th>\n",
              "      <th>bio07</th>\n",
              "      <th>bio08</th>\n",
              "      <th>...</th>\n",
              "      <th>bio13</th>\n",
              "      <th>bio14</th>\n",
              "      <th>bio15</th>\n",
              "      <th>bio16</th>\n",
              "      <th>bio17</th>\n",
              "      <th>bio18</th>\n",
              "      <th>bio19</th>\n",
              "      <th>elevation</th>\n",
              "      <th>hillshade</th>\n",
              "      <th>slope</th>\n",
              "    </tr>\n",
              "  </thead>\n",
              "  <tbody>\n",
              "    <tr>\n",
              "      <th>0</th>\n",
              "      <td>3.0</td>\n",
              "      <td>35</td>\n",
              "      <td>134</td>\n",
              "      <td>92</td>\n",
              "      <td>35</td>\n",
              "      <td>5877</td>\n",
              "      <td>282</td>\n",
              "      <td>21</td>\n",
              "      <td>261</td>\n",
              "      <td>106</td>\n",
              "      <td>...</td>\n",
              "      <td>73</td>\n",
              "      <td>27</td>\n",
              "      <td>28</td>\n",
              "      <td>210</td>\n",
              "      <td>101</td>\n",
              "      <td>101</td>\n",
              "      <td>200</td>\n",
              "      <td>405</td>\n",
              "      <td>179</td>\n",
              "      <td>1</td>\n",
              "    </tr>\n",
              "    <tr>\n",
              "      <th>1</th>\n",
              "      <td>32.0</td>\n",
              "      <td>233</td>\n",
              "      <td>47</td>\n",
              "      <td>95</td>\n",
              "      <td>32</td>\n",
              "      <td>6623</td>\n",
              "      <td>197</td>\n",
              "      <td>-92</td>\n",
              "      <td>289</td>\n",
              "      <td>129</td>\n",
              "      <td>...</td>\n",
              "      <td>122</td>\n",
              "      <td>34</td>\n",
              "      <td>44</td>\n",
              "      <td>343</td>\n",
              "      <td>104</td>\n",
              "      <td>343</td>\n",
              "      <td>104</td>\n",
              "      <td>1552</td>\n",
              "      <td>202</td>\n",
              "      <td>8</td>\n",
              "    </tr>\n",
              "    <tr>\n",
              "      <th>2</th>\n",
              "      <td>7.5</td>\n",
              "      <td>103</td>\n",
              "      <td>120</td>\n",
              "      <td>80</td>\n",
              "      <td>30</td>\n",
              "      <td>6559</td>\n",
              "      <td>266</td>\n",
              "      <td>0</td>\n",
              "      <td>266</td>\n",
              "      <td>129</td>\n",
              "      <td>...</td>\n",
              "      <td>93</td>\n",
              "      <td>52</td>\n",
              "      <td>18</td>\n",
              "      <td>251</td>\n",
              "      <td>169</td>\n",
              "      <td>169</td>\n",
              "      <td>177</td>\n",
              "      <td>497</td>\n",
              "      <td>155</td>\n",
              "      <td>8</td>\n",
              "    </tr>\n",
              "    <tr>\n",
              "      <th>3</th>\n",
              "      <td>4.0</td>\n",
              "      <td>90</td>\n",
              "      <td>127</td>\n",
              "      <td>78</td>\n",
              "      <td>28</td>\n",
              "      <td>6770</td>\n",
              "      <td>274</td>\n",
              "      <td>0</td>\n",
              "      <td>274</td>\n",
              "      <td>121</td>\n",
              "      <td>...</td>\n",
              "      <td>86</td>\n",
              "      <td>35</td>\n",
              "      <td>27</td>\n",
              "      <td>225</td>\n",
              "      <td>134</td>\n",
              "      <td>148</td>\n",
              "      <td>134</td>\n",
              "      <td>297</td>\n",
              "      <td>180</td>\n",
              "      <td>0</td>\n",
              "    </tr>\n",
              "    <tr>\n",
              "      <th>4</th>\n",
              "      <td>10.5</td>\n",
              "      <td>328</td>\n",
              "      <td>123</td>\n",
              "      <td>98</td>\n",
              "      <td>35</td>\n",
              "      <td>6051</td>\n",
              "      <td>279</td>\n",
              "      <td>4</td>\n",
              "      <td>275</td>\n",
              "      <td>89</td>\n",
              "      <td>...</td>\n",
              "      <td>95</td>\n",
              "      <td>39</td>\n",
              "      <td>23</td>\n",
              "      <td>259</td>\n",
              "      <td>137</td>\n",
              "      <td>137</td>\n",
              "      <td>208</td>\n",
              "      <td>323</td>\n",
              "      <td>185</td>\n",
              "      <td>3</td>\n",
              "    </tr>\n",
              "    <tr>\n",
              "      <th>...</th>\n",
              "      <td>...</td>\n",
              "      <td>...</td>\n",
              "      <td>...</td>\n",
              "      <td>...</td>\n",
              "      <td>...</td>\n",
              "      <td>...</td>\n",
              "      <td>...</td>\n",
              "      <td>...</td>\n",
              "      <td>...</td>\n",
              "      <td>...</td>\n",
              "      <td>...</td>\n",
              "      <td>...</td>\n",
              "      <td>...</td>\n",
              "      <td>...</td>\n",
              "      <td>...</td>\n",
              "      <td>...</td>\n",
              "      <td>...</td>\n",
              "      <td>...</td>\n",
              "      <td>...</td>\n",
              "      <td>...</td>\n",
              "      <td>...</td>\n",
              "    </tr>\n",
              "    <tr>\n",
              "      <th>2520</th>\n",
              "      <td>2.5</td>\n",
              "      <td>292</td>\n",
              "      <td>-5</td>\n",
              "      <td>62</td>\n",
              "      <td>28</td>\n",
              "      <td>5568</td>\n",
              "      <td>115</td>\n",
              "      <td>-104</td>\n",
              "      <td>219</td>\n",
              "      <td>-57</td>\n",
              "      <td>...</td>\n",
              "      <td>163</td>\n",
              "      <td>112</td>\n",
              "      <td>10</td>\n",
              "      <td>458</td>\n",
              "      <td>362</td>\n",
              "      <td>362</td>\n",
              "      <td>450</td>\n",
              "      <td>2511</td>\n",
              "      <td>219</td>\n",
              "      <td>13</td>\n",
              "    </tr>\n",
              "    <tr>\n",
              "      <th>2521</th>\n",
              "      <td>7.0</td>\n",
              "      <td>184</td>\n",
              "      <td>141</td>\n",
              "      <td>90</td>\n",
              "      <td>32</td>\n",
              "      <td>6291</td>\n",
              "      <td>289</td>\n",
              "      <td>16</td>\n",
              "      <td>273</td>\n",
              "      <td>110</td>\n",
              "      <td>...</td>\n",
              "      <td>93</td>\n",
              "      <td>44</td>\n",
              "      <td>22</td>\n",
              "      <td>268</td>\n",
              "      <td>155</td>\n",
              "      <td>156</td>\n",
              "      <td>209</td>\n",
              "      <td>165</td>\n",
              "      <td>181</td>\n",
              "      <td>2</td>\n",
              "    </tr>\n",
              "    <tr>\n",
              "      <th>2522</th>\n",
              "      <td>42.0</td>\n",
              "      <td>162</td>\n",
              "      <td>107</td>\n",
              "      <td>88</td>\n",
              "      <td>32</td>\n",
              "      <td>6503</td>\n",
              "      <td>261</td>\n",
              "      <td>-13</td>\n",
              "      <td>274</td>\n",
              "      <td>118</td>\n",
              "      <td>...</td>\n",
              "      <td>102</td>\n",
              "      <td>52</td>\n",
              "      <td>22</td>\n",
              "      <td>282</td>\n",
              "      <td>171</td>\n",
              "      <td>187</td>\n",
              "      <td>184</td>\n",
              "      <td>915</td>\n",
              "      <td>176</td>\n",
              "      <td>4</td>\n",
              "    </tr>\n",
              "    <tr>\n",
              "      <th>2523</th>\n",
              "      <td>0.0</td>\n",
              "      <td>305</td>\n",
              "      <td>-58</td>\n",
              "      <td>42</td>\n",
              "      <td>23</td>\n",
              "      <td>4940</td>\n",
              "      <td>35</td>\n",
              "      <td>-146</td>\n",
              "      <td>181</td>\n",
              "      <td>4</td>\n",
              "      <td>...</td>\n",
              "      <td>180</td>\n",
              "      <td>118</td>\n",
              "      <td>13</td>\n",
              "      <td>522</td>\n",
              "      <td>385</td>\n",
              "      <td>478</td>\n",
              "      <td>423</td>\n",
              "      <td>3323</td>\n",
              "      <td>195</td>\n",
              "      <td>6</td>\n",
              "    </tr>\n",
              "    <tr>\n",
              "      <th>2524</th>\n",
              "      <td>7.5</td>\n",
              "      <td>347</td>\n",
              "      <td>119</td>\n",
              "      <td>76</td>\n",
              "      <td>28</td>\n",
              "      <td>6504</td>\n",
              "      <td>259</td>\n",
              "      <td>-5</td>\n",
              "      <td>264</td>\n",
              "      <td>127</td>\n",
              "      <td>...</td>\n",
              "      <td>115</td>\n",
              "      <td>38</td>\n",
              "      <td>28</td>\n",
              "      <td>292</td>\n",
              "      <td>157</td>\n",
              "      <td>157</td>\n",
              "      <td>183</td>\n",
              "      <td>319</td>\n",
              "      <td>181</td>\n",
              "      <td>2</td>\n",
              "    </tr>\n",
              "  </tbody>\n",
              "</table>\n",
              "<p>2525 rows × 24 columns</p>\n",
              "</div>"
            ],
            "text/plain": [
              "       TCC  aspect  bio01  bio02  bio03  bio04  bio05  bio06  bio07  bio08  \\\n",
              "0      3.0      35    134     92     35   5877    282     21    261    106   \n",
              "1     32.0     233     47     95     32   6623    197    -92    289    129   \n",
              "2      7.5     103    120     80     30   6559    266      0    266    129   \n",
              "3      4.0      90    127     78     28   6770    274      0    274    121   \n",
              "4     10.5     328    123     98     35   6051    279      4    275     89   \n",
              "...    ...     ...    ...    ...    ...    ...    ...    ...    ...    ...   \n",
              "2520   2.5     292     -5     62     28   5568    115   -104    219    -57   \n",
              "2521   7.0     184    141     90     32   6291    289     16    273    110   \n",
              "2522  42.0     162    107     88     32   6503    261    -13    274    118   \n",
              "2523   0.0     305    -58     42     23   4940     35   -146    181      4   \n",
              "2524   7.5     347    119     76     28   6504    259     -5    264    127   \n",
              "\n",
              "      ...  bio13  bio14  bio15  bio16  bio17  bio18  bio19  elevation  \\\n",
              "0     ...     73     27     28    210    101    101    200        405   \n",
              "1     ...    122     34     44    343    104    343    104       1552   \n",
              "2     ...     93     52     18    251    169    169    177        497   \n",
              "3     ...     86     35     27    225    134    148    134        297   \n",
              "4     ...     95     39     23    259    137    137    208        323   \n",
              "...   ...    ...    ...    ...    ...    ...    ...    ...        ...   \n",
              "2520  ...    163    112     10    458    362    362    450       2511   \n",
              "2521  ...     93     44     22    268    155    156    209        165   \n",
              "2522  ...    102     52     22    282    171    187    184        915   \n",
              "2523  ...    180    118     13    522    385    478    423       3323   \n",
              "2524  ...    115     38     28    292    157    157    183        319   \n",
              "\n",
              "      hillshade  slope  \n",
              "0           179      1  \n",
              "1           202      8  \n",
              "2           155      8  \n",
              "3           180      0  \n",
              "4           185      3  \n",
              "...         ...    ...  \n",
              "2520        219     13  \n",
              "2521        181      2  \n",
              "2522        176      4  \n",
              "2523        195      6  \n",
              "2524        181      2  \n",
              "\n",
              "[2525 rows x 24 columns]"
            ]
          },
          "execution_count": 23,
          "metadata": {},
          "output_type": "execute_result"
        }
      ],
      "source": [
        "# Generate 5,000 random points\n",
        "data_cor = predictors.sample(scale=grain_size, numPixels=10000, geometries=True)\n",
        "\n",
        "# Extract predictor variable values\n",
        "pvals = predictors.sampleRegions(collection=data_cor, scale=grain_size)\n",
        "\n",
        "# Converting predictor values from Earth Engine to a DataFrame\n",
        "pvals_df = geemap.ee_to_df(pvals)\n",
        "pvals_df"
      ]
    },
    {
      "cell_type": "markdown",
      "metadata": {
        "id": "f3YiwTb8DOzb"
      },
      "source": [
        "Calculating Spearman correlation coefficients between the given predictor variables and visualizing them in a heatmap."
      ]
    },
    {
      "cell_type": "code",
      "execution_count": null,
      "metadata": {
        "id": "Wxf8auj35l3C"
      },
      "outputs": [
        {
          "data": {
            "text/html": [
              "\n",
              "            <style>\n",
              "                .geemap-dark {\n",
              "                    --jp-widgets-color: white;\n",
              "                    --jp-widgets-label-color: white;\n",
              "                    --jp-ui-font-color1: white;\n",
              "                    --jp-layout-color2: #454545;\n",
              "                    background-color: #383838;\n",
              "                }\n",
              "\n",
              "                .geemap-dark .jupyter-button {\n",
              "                    --jp-layout-color3: #383838;\n",
              "                }\n",
              "\n",
              "                .geemap-colab {\n",
              "                    background-color: var(--colab-primary-surface-color, white);\n",
              "                }\n",
              "\n",
              "                .geemap-colab .jupyter-button {\n",
              "                    --jp-layout-color3: var(--colab-primary-surface-color, white);\n",
              "                }\n",
              "            </style>\n",
              "            "
            ],
            "text/plain": [
              "<IPython.core.display.HTML object>"
            ]
          },
          "metadata": {},
          "output_type": "display_data"
        }
      ],
      "source": [
        "def plot_correlation_heatmap(dataframe, h_size=10, show_labels=False):\n",
        "    # Calculate Spearman correlation coefficients\n",
        "    correlation_matrix = dataframe.corr(method=\"spearman\")\n",
        "\n",
        "    # Create a heatmap\n",
        "    plt.figure(figsize=(h_size, h_size-2))\n",
        "    plt.imshow(correlation_matrix, cmap='coolwarm', interpolation='nearest')\n",
        "\n",
        "    # Optionally display values on the heatmap\n",
        "    if show_labels:\n",
        "        for i in range(correlation_matrix.shape[0]):\n",
        "            for j in range(correlation_matrix.shape[1]):\n",
        "                plt.text(j, i, f\"{correlation_matrix.iloc[i, j]:.2f}\",\n",
        "                         ha='center', va='center', color='white', fontsize=8)\n",
        "\n",
        "    columns = dataframe.columns.tolist()\n",
        "    plt.xticks(range(len(columns)), columns, rotation=90)\n",
        "    plt.yticks(range(len(columns)), columns)\n",
        "    plt.title(\"Variables Correlation Matrix\")\n",
        "    plt.colorbar(label=\"Spearman Correlation\")\n",
        "    plt.savefig('output/correlation_heatmap_plot.png')\n",
        "    plt.show()"
      ]
    },
    {
      "cell_type": "code",
      "execution_count": 25,
      "metadata": {
        "id": "DP5ect8cDb7C"
      },
      "outputs": [
        {
          "data": {
            "text/html": [
              "\n",
              "            <style>\n",
              "                .geemap-dark {\n",
              "                    --jp-widgets-color: white;\n",
              "                    --jp-widgets-label-color: white;\n",
              "                    --jp-ui-font-color1: white;\n",
              "                    --jp-layout-color2: #454545;\n",
              "                    background-color: #383838;\n",
              "                }\n",
              "\n",
              "                .geemap-dark .jupyter-button {\n",
              "                    --jp-layout-color3: #383838;\n",
              "                }\n",
              "\n",
              "                .geemap-colab {\n",
              "                    background-color: var(--colab-primary-surface-color, white);\n",
              "                }\n",
              "\n",
              "                .geemap-colab .jupyter-button {\n",
              "                    --jp-layout-color3: var(--colab-primary-surface-color, white);\n",
              "                }\n",
              "            </style>\n",
              "            "
            ],
            "text/plain": [
              "<IPython.core.display.HTML object>"
            ]
          },
          "metadata": {},
          "output_type": "display_data"
        },
        {
          "data": {
            "image/png": "[encoded data removed]",
            "text/plain": [
              "<Figure size 1000x800 with 2 Axes>"
            ]
          },
          "metadata": {},
          "output_type": "display_data"
        }
      ],
      "source": [
        "# Plot the correlation heatmap of variables\n",
        "plot_correlation_heatmap(pvals_df)"
      ]
    },
    {
      "cell_type": "markdown",
      "metadata": {
        "id": "07B62CNfDyGz"
      },
      "source": [
        "The go-to approach for variable selection with multicollinearity is the **Variance Inflation Factor (VIF)**. It indicates the degree of linear relationship of each independent variable with the other independent variables, where a high VIF values can be evidence of multicollinearity.\n",
        "\n",
        "Usually, we don't want the VIF to exceed 5 or 10. We use 10 for now."
      ]
    },
    {
      "cell_type": "code",
      "execution_count": 26,
      "metadata": {
        "id": "TJdGzd3SDisO"
      },
      "outputs": [
        {
          "data": {
            "text/html": [
              "\n",
              "            <style>\n",
              "                .geemap-dark {\n",
              "                    --jp-widgets-color: white;\n",
              "                    --jp-widgets-label-color: white;\n",
              "                    --jp-ui-font-color1: white;\n",
              "                    --jp-layout-color2: #454545;\n",
              "                    background-color: #383838;\n",
              "                }\n",
              "\n",
              "                .geemap-dark .jupyter-button {\n",
              "                    --jp-layout-color3: #383838;\n",
              "                }\n",
              "\n",
              "                .geemap-colab {\n",
              "                    background-color: var(--colab-primary-surface-color, white);\n",
              "                }\n",
              "\n",
              "                .geemap-colab .jupyter-button {\n",
              "                    --jp-layout-color3: var(--colab-primary-surface-color, white);\n",
              "                }\n",
              "            </style>\n",
              "            "
            ],
            "text/plain": [
              "<IPython.core.display.HTML object>"
            ]
          },
          "metadata": {},
          "output_type": "display_data"
        }
      ],
      "source": [
        "# Filter variables based on Variance Inflation Factor (VIF)\n",
        "def filter_variables_by_vif(dataframe, threshold=10):\n",
        "\n",
        "    original_columns = dataframe.columns.tolist()\n",
        "    remaining_columns = original_columns[:]\n",
        "\n",
        "    while True:\n",
        "        vif_data = dataframe[remaining_columns]\n",
        "        vif_values = [\n",
        "            variance_inflation_factor(vif_data.values, i)\n",
        "            for i in range(vif_data.shape[1])\n",
        "        ]\n",
        "\n",
        "        max_vif_index = vif_values.index(max(vif_values))\n",
        "        max_vif = max(vif_values)\n",
        "\n",
        "        if max_vif < threshold:\n",
        "            break\n",
        "\n",
        "        print(f\"Removing '{remaining_columns[max_vif_index]}' with VIF {max_vif:.2f}\")\n",
        "\n",
        "        del remaining_columns[max_vif_index]\n",
        "\n",
        "    filtered_data = dataframe[remaining_columns]\n",
        "    bands = filtered_data.columns.tolist()\n",
        "    print(\"Bands:\", bands)\n",
        "\n",
        "    return filtered_data, bands"
      ]
    },
    {
      "cell_type": "code",
      "execution_count": 27,
      "metadata": {
        "id": "e3iiKaK5Eg0q"
      },
      "outputs": [
        {
          "data": {
            "text/html": [
              "\n",
              "            <style>\n",
              "                .geemap-dark {\n",
              "                    --jp-widgets-color: white;\n",
              "                    --jp-widgets-label-color: white;\n",
              "                    --jp-ui-font-color1: white;\n",
              "                    --jp-layout-color2: #454545;\n",
              "                    background-color: #383838;\n",
              "                }\n",
              "\n",
              "                .geemap-dark .jupyter-button {\n",
              "                    --jp-layout-color3: #383838;\n",
              "                }\n",
              "\n",
              "                .geemap-colab {\n",
              "                    background-color: var(--colab-primary-surface-color, white);\n",
              "                }\n",
              "\n",
              "                .geemap-colab .jupyter-button {\n",
              "                    --jp-layout-color3: var(--colab-primary-surface-color, white);\n",
              "                }\n",
              "            </style>\n",
              "            "
            ],
            "text/plain": [
              "<IPython.core.display.HTML object>"
            ]
          },
          "metadata": {},
          "output_type": "display_data"
        },
        {
          "name": "stdout",
          "output_type": "stream",
          "text": [
            "Removing 'bio05' with VIF inf\n",
            "Removing 'bio10' with VIF 191093.05\n",
            "Removing 'bio07' with VIF 25953.31\n",
            "Removing 'bio01' with VIF 18212.53\n",
            "Removing 'bio12' with VIF 1813.15\n",
            "Removing 'bio11' with VIF 1514.01\n",
            "Removing 'bio16' with VIF 1198.53\n",
            "Removing 'bio03' with VIF 1167.12\n",
            "Removing 'bio17' with VIF 362.60\n",
            "Removing 'bio13' with VIF 183.89\n",
            "Removing 'bio04' with VIF 173.50\n",
            "Removing 'hillshade' with VIF 89.64\n",
            "Removing 'bio02' with VIF 67.72\n",
            "Removing 'bio18' with VIF 52.18\n",
            "Removing 'bio15' with VIF 39.78\n",
            "Removing 'bio19' with VIF 23.13\n",
            "Removing 'bio09' with VIF 9.62\n",
            "Removing 'bio08' with VIF 7.49\n",
            "Removing 'elevation' with VIF 5.00\n",
            "Bands: ['TCC', 'aspect', 'bio06', 'bio14', 'slope']\n"
          ]
        }
      ],
      "source": [
        "filtered_pvals_df, bands = filter_variables_by_vif(pvals_df, 5)"
      ]
    },
    {
      "cell_type": "code",
      "execution_count": 28,
      "metadata": {},
      "outputs": [
        {
          "data": {
            "text/html": [
              "\n",
              "            <style>\n",
              "                .geemap-dark {\n",
              "                    --jp-widgets-color: white;\n",
              "                    --jp-widgets-label-color: white;\n",
              "                    --jp-ui-font-color1: white;\n",
              "                    --jp-layout-color2: #454545;\n",
              "                    background-color: #383838;\n",
              "                }\n",
              "\n",
              "                .geemap-dark .jupyter-button {\n",
              "                    --jp-layout-color3: #383838;\n",
              "                }\n",
              "\n",
              "                .geemap-colab {\n",
              "                    background-color: var(--colab-primary-surface-color, white);\n",
              "                }\n",
              "\n",
              "                .geemap-colab .jupyter-button {\n",
              "                    --jp-layout-color3: var(--colab-primary-surface-color, white);\n",
              "                }\n",
              "            </style>\n",
              "            "
            ],
            "text/plain": [
              "<IPython.core.display.HTML object>"
            ]
          },
          "metadata": {},
          "output_type": "display_data"
        }
      ],
      "source": [
        "bands = ['TCC', 'aspect', 'bio06','bio09', 'bio14', 'elevation', 'slope']"
      ]
    },
    {
      "cell_type": "code",
      "execution_count": 29,
      "metadata": {
        "id": "TEFmil6WErkl"
      },
      "outputs": [
        {
          "data": {
            "text/html": [
              "\n",
              "            <style>\n",
              "                .geemap-dark {\n",
              "                    --jp-widgets-color: white;\n",
              "                    --jp-widgets-label-color: white;\n",
              "                    --jp-ui-font-color1: white;\n",
              "                    --jp-layout-color2: #454545;\n",
              "                    background-color: #383838;\n",
              "                }\n",
              "\n",
              "                .geemap-dark .jupyter-button {\n",
              "                    --jp-layout-color3: #383838;\n",
              "                }\n",
              "\n",
              "                .geemap-colab {\n",
              "                    background-color: var(--colab-primary-surface-color, white);\n",
              "                }\n",
              "\n",
              "                .geemap-colab .jupyter-button {\n",
              "                    --jp-layout-color3: var(--colab-primary-surface-color, white);\n",
              "                }\n",
              "            </style>\n",
              "            "
            ],
            "text/plain": [
              "<IPython.core.display.HTML object>"
            ]
          },
          "metadata": {},
          "output_type": "display_data"
        },
        {
          "data": {
            "image/png": "[encoded data removed]",
            "text/plain": [
              "<Figure size 600x400 with 2 Axes>"
            ]
          },
          "metadata": {},
          "output_type": "display_data"
        }
      ],
      "source": [
        "# Variable Selection Based on VIF\n",
        "predictors = predictors.select(bands)\n",
        "\n",
        "# Plot the correlation heatmap of variables\n",
        "plot_correlation_heatmap(filtered_pvals_df, h_size=6, show_labels=True)"
      ]
    },
    {
      "cell_type": "markdown",
      "metadata": {},
      "source": [
        "The next step will take forever. I don't know why but sampling from a geemap image and converting to a dataframe takes forever. We will have a big dataset, but not huge. With a 1km resolution, we should be getting around 0.1GB of data.\n",
        "\n",
        "This step is commented out and you can just load in the data I provided. It should load in less than 1min."
      ]
    },
    {
      "cell_type": "markdown",
      "metadata": {},
      "source": [
        "### 2.4 Store the Data"
      ]
    },
    {
      "cell_type": "code",
      "execution_count": 30,
      "metadata": {},
      "outputs": [
        {
          "data": {
            "text/html": [
              "\n",
              "            <style>\n",
              "                .geemap-dark {\n",
              "                    --jp-widgets-color: white;\n",
              "                    --jp-widgets-label-color: white;\n",
              "                    --jp-ui-font-color1: white;\n",
              "                    --jp-layout-color2: #454545;\n",
              "                    background-color: #383838;\n",
              "                }\n",
              "\n",
              "                .geemap-dark .jupyter-button {\n",
              "                    --jp-layout-color3: #383838;\n",
              "                }\n",
              "\n",
              "                .geemap-colab {\n",
              "                    background-color: var(--colab-primary-surface-color, white);\n",
              "                }\n",
              "\n",
              "                .geemap-colab .jupyter-button {\n",
              "                    --jp-layout-color3: var(--colab-primary-surface-color, white);\n",
              "                }\n",
              "            </style>\n",
              "            "
            ],
            "text/plain": [
              "<IPython.core.display.HTML object>"
            ]
          },
          "metadata": {},
          "output_type": "display_data"
        }
      ],
      "source": [
        "#predictors_feature = predictors.sample(region=bbox, scale=1000, geometries=True) \n",
        "#gdf = geemap.ee_to_gdf(predictors_feature)\n",
        "#gdf.to_file('dataframe.geojson', driver='GeoJSON')  \n",
        "# Load data\n",
        "#gdf_predictors = gpd.read_file('dataframe.geojson')"
      ]
    },
    {
      "cell_type": "code",
      "execution_count": 31,
      "metadata": {},
      "outputs": [
        {
          "data": {
            "text/html": [
              "\n",
              "            <style>\n",
              "                .geemap-dark {\n",
              "                    --jp-widgets-color: white;\n",
              "                    --jp-widgets-label-color: white;\n",
              "                    --jp-ui-font-color1: white;\n",
              "                    --jp-layout-color2: #454545;\n",
              "                    background-color: #383838;\n",
              "                }\n",
              "\n",
              "                .geemap-dark .jupyter-button {\n",
              "                    --jp-layout-color3: #383838;\n",
              "                }\n",
              "\n",
              "                .geemap-colab {\n",
              "                    background-color: var(--colab-primary-surface-color, white);\n",
              "                }\n",
              "\n",
              "                .geemap-colab .jupyter-button {\n",
              "                    --jp-layout-color3: var(--colab-primary-surface-color, white);\n",
              "                }\n",
              "            </style>\n",
              "            "
            ],
            "text/plain": [
              "<IPython.core.display.HTML object>"
            ]
          },
          "metadata": {},
          "output_type": "display_data"
        }
      ],
      "source": [
        "# Load data\n",
        "gdf_predictors = gpd.read_file('dataframe.geojson')"
      ]
    },
    {
      "cell_type": "code",
      "execution_count": 32,
      "metadata": {},
      "outputs": [
        {
          "data": {
            "text/html": [
              "\n",
              "            <style>\n",
              "                .geemap-dark {\n",
              "                    --jp-widgets-color: white;\n",
              "                    --jp-widgets-label-color: white;\n",
              "                    --jp-ui-font-color1: white;\n",
              "                    --jp-layout-color2: #454545;\n",
              "                    background-color: #383838;\n",
              "                }\n",
              "\n",
              "                .geemap-dark .jupyter-button {\n",
              "                    --jp-layout-color3: #383838;\n",
              "                }\n",
              "\n",
              "                .geemap-colab {\n",
              "                    background-color: var(--colab-primary-surface-color, white);\n",
              "                }\n",
              "\n",
              "                .geemap-colab .jupyter-button {\n",
              "                    --jp-layout-color3: var(--colab-primary-surface-color, white);\n",
              "                }\n",
              "            </style>\n",
              "            "
            ],
            "text/plain": [
              "<IPython.core.display.HTML object>"
            ]
          },
          "metadata": {},
          "output_type": "display_data"
        },
        {
          "data": {
            "text/html": [
              "<div>\n",
              "<style scoped>\n",
              "    .dataframe tbody tr th:only-of-type {\n",
              "        vertical-align: middle;\n",
              "    }\n",
              "\n",
              "    .dataframe tbody tr th {\n",
              "        vertical-align: top;\n",
              "    }\n",
              "\n",
              "    .dataframe thead th {\n",
              "        text-align: right;\n",
              "    }\n",
              "</style>\n",
              "<table border=\"1\" class=\"dataframe\">\n",
              "  <thead>\n",
              "    <tr style=\"text-align: right;\">\n",
              "      <th></th>\n",
              "      <th>TCC</th>\n",
              "      <th>aspect</th>\n",
              "      <th>bio06</th>\n",
              "      <th>bio09</th>\n",
              "      <th>bio14</th>\n",
              "      <th>elevation</th>\n",
              "      <th>slope</th>\n",
              "      <th>geometry</th>\n",
              "    </tr>\n",
              "  </thead>\n",
              "  <tbody>\n",
              "    <tr>\n",
              "      <th>0</th>\n",
              "      <td>0.0</td>\n",
              "      <td>229</td>\n",
              "      <td>-137</td>\n",
              "      <td>27</td>\n",
              "      <td>151</td>\n",
              "      <td>3008</td>\n",
              "      <td>16</td>\n",
              "      <td>POINT (6.79576 45.8006)</td>\n",
              "    </tr>\n",
              "    <tr>\n",
              "      <th>1</th>\n",
              "      <td>0.5</td>\n",
              "      <td>276</td>\n",
              "      <td>-143</td>\n",
              "      <td>20</td>\n",
              "      <td>155</td>\n",
              "      <td>3354</td>\n",
              "      <td>25</td>\n",
              "      <td>POINT (6.80474 45.8006)</td>\n",
              "    </tr>\n",
              "    <tr>\n",
              "      <th>2</th>\n",
              "      <td>0.5</td>\n",
              "      <td>18</td>\n",
              "      <td>-156</td>\n",
              "      <td>2</td>\n",
              "      <td>162</td>\n",
              "      <td>3638</td>\n",
              "      <td>4</td>\n",
              "      <td>POINT (6.81372 45.8006)</td>\n",
              "    </tr>\n",
              "    <tr>\n",
              "      <th>3</th>\n",
              "      <td>1.0</td>\n",
              "      <td>60</td>\n",
              "      <td>-139</td>\n",
              "      <td>23</td>\n",
              "      <td>153</td>\n",
              "      <td>3326</td>\n",
              "      <td>31</td>\n",
              "      <td>POINT (6.8227 45.8006)</td>\n",
              "    </tr>\n",
              "    <tr>\n",
              "      <th>4</th>\n",
              "      <td>3.0</td>\n",
              "      <td>58</td>\n",
              "      <td>-117</td>\n",
              "      <td>57</td>\n",
              "      <td>139</td>\n",
              "      <td>2923</td>\n",
              "      <td>36</td>\n",
              "      <td>POINT (6.83169 45.8006)</td>\n",
              "    </tr>\n",
              "    <tr>\n",
              "      <th>...</th>\n",
              "      <td>...</td>\n",
              "      <td>...</td>\n",
              "      <td>...</td>\n",
              "      <td>...</td>\n",
              "      <td>...</td>\n",
              "      <td>...</td>\n",
              "      <td>...</td>\n",
              "      <td>...</td>\n",
              "    </tr>\n",
              "    <tr>\n",
              "      <th>410038</th>\n",
              "      <td>43.5</td>\n",
              "      <td>244</td>\n",
              "      <td>13</td>\n",
              "      <td>57</td>\n",
              "      <td>74</td>\n",
              "      <td>171</td>\n",
              "      <td>1</td>\n",
              "      <td>POINT (13.6499 45.79162)</td>\n",
              "    </tr>\n",
              "    <tr>\n",
              "      <th>410039</th>\n",
              "      <td>47.5</td>\n",
              "      <td>277</td>\n",
              "      <td>12</td>\n",
              "      <td>55</td>\n",
              "      <td>74</td>\n",
              "      <td>181</td>\n",
              "      <td>1</td>\n",
              "      <td>POINT (13.65888 45.79162)</td>\n",
              "    </tr>\n",
              "    <tr>\n",
              "      <th>410040</th>\n",
              "      <td>48.5</td>\n",
              "      <td>326</td>\n",
              "      <td>12</td>\n",
              "      <td>55</td>\n",
              "      <td>74</td>\n",
              "      <td>189</td>\n",
              "      <td>1</td>\n",
              "      <td>POINT (13.66787 45.79162)</td>\n",
              "    </tr>\n",
              "    <tr>\n",
              "      <th>410041</th>\n",
              "      <td>47.5</td>\n",
              "      <td>325</td>\n",
              "      <td>11</td>\n",
              "      <td>55</td>\n",
              "      <td>75</td>\n",
              "      <td>195</td>\n",
              "      <td>1</td>\n",
              "      <td>POINT (13.67685 45.79162)</td>\n",
              "    </tr>\n",
              "    <tr>\n",
              "      <th>410042</th>\n",
              "      <td>48.0</td>\n",
              "      <td>35</td>\n",
              "      <td>10</td>\n",
              "      <td>54</td>\n",
              "      <td>75</td>\n",
              "      <td>208</td>\n",
              "      <td>3</td>\n",
              "      <td>POINT (13.68583 45.79162)</td>\n",
              "    </tr>\n",
              "  </tbody>\n",
              "</table>\n",
              "<p>410043 rows × 8 columns</p>\n",
              "</div>"
            ],
            "text/plain": [
              "         TCC  aspect  bio06  bio09  bio14  elevation  slope  \\\n",
              "0        0.0     229   -137     27    151       3008     16   \n",
              "1        0.5     276   -143     20    155       3354     25   \n",
              "2        0.5      18   -156      2    162       3638      4   \n",
              "3        1.0      60   -139     23    153       3326     31   \n",
              "4        3.0      58   -117     57    139       2923     36   \n",
              "...      ...     ...    ...    ...    ...        ...    ...   \n",
              "410038  43.5     244     13     57     74        171      1   \n",
              "410039  47.5     277     12     55     74        181      1   \n",
              "410040  48.5     326     12     55     74        189      1   \n",
              "410041  47.5     325     11     55     75        195      1   \n",
              "410042  48.0      35     10     54     75        208      3   \n",
              "\n",
              "                         geometry  \n",
              "0         POINT (6.79576 45.8006)  \n",
              "1         POINT (6.80474 45.8006)  \n",
              "2         POINT (6.81372 45.8006)  \n",
              "3          POINT (6.8227 45.8006)  \n",
              "4         POINT (6.83169 45.8006)  \n",
              "...                           ...  \n",
              "410038   POINT (13.6499 45.79162)  \n",
              "410039  POINT (13.65888 45.79162)  \n",
              "410040  POINT (13.66787 45.79162)  \n",
              "410041  POINT (13.67685 45.79162)  \n",
              "410042  POINT (13.68583 45.79162)  \n",
              "\n",
              "[410043 rows x 8 columns]"
            ]
          },
          "execution_count": 32,
          "metadata": {},
          "output_type": "execute_result"
        }
      ],
      "source": [
        "# The relevant predictors might be different from the random sample compared to when I did it. Strongly correlated predictors might have been swapped\n",
        "bands = [col for col in gdf_predictors.columns if col not in [\"geometry\"]]\n",
        "\n",
        "gdf_predictors"
      ]
    },
    {
      "cell_type": "markdown",
      "metadata": {},
      "source": [
        "### (2.5 optional) Visualising the different predictor Variables"
      ]
    },
    {
      "cell_type": "markdown",
      "metadata": {},
      "source": [
        "This section is optional and purely for visualisation (maybe a bit of understanding of our aoi). You can skip this section."
      ]
    },
    {
      "cell_type": "code",
      "execution_count": 33,
      "metadata": {
        "id": "H8uHX-83E8x7"
      },
      "outputs": [
        {
          "data": {
            "text/html": [
              "\n",
              "            <style>\n",
              "                .geemap-dark {\n",
              "                    --jp-widgets-color: white;\n",
              "                    --jp-widgets-label-color: white;\n",
              "                    --jp-ui-font-color1: white;\n",
              "                    --jp-layout-color2: #454545;\n",
              "                    background-color: #383838;\n",
              "                }\n",
              "\n",
              "                .geemap-dark .jupyter-button {\n",
              "                    --jp-layout-color3: #383838;\n",
              "                }\n",
              "\n",
              "                .geemap-colab {\n",
              "                    background-color: var(--colab-primary-surface-color, white);\n",
              "                }\n",
              "\n",
              "                .geemap-colab .jupyter-button {\n",
              "                    --jp-layout-color3: var(--colab-primary-surface-color, white);\n",
              "                }\n",
              "            </style>\n",
              "            "
            ],
            "text/plain": [
              "<IPython.core.display.HTML object>"
            ]
          },
          "metadata": {},
          "output_type": "display_data"
        },
        {
          "data": {
            "image/png": "[encoded data removed]",
            "text/plain": [
              "<Figure size 800x20 with 1 Axes>"
            ]
          },
          "metadata": {},
          "output_type": "display_data"
        }
      ],
      "source": [
        "cm.plot_colormap('cool', width=8.0, height=0.2, orientation='horizontal')"
      ]
    },
    {
      "cell_type": "code",
      "execution_count": 34,
      "metadata": {
        "id": "RswVTmLFFUb3"
      },
      "outputs": [
        {
          "data": {
            "text/html": [
              "\n",
              "            <style>\n",
              "                .geemap-dark {\n",
              "                    --jp-widgets-color: white;\n",
              "                    --jp-widgets-label-color: white;\n",
              "                    --jp-ui-font-color1: white;\n",
              "                    --jp-layout-color2: #454545;\n",
              "                    background-color: #383838;\n",
              "                }\n",
              "\n",
              "                .geemap-dark .jupyter-button {\n",
              "                    --jp-layout-color3: #383838;\n",
              "                }\n",
              "\n",
              "                .geemap-colab {\n",
              "                    background-color: var(--colab-primary-surface-color, white);\n",
              "                }\n",
              "\n",
              "                .geemap-colab .jupyter-button {\n",
              "                    --jp-layout-color3: var(--colab-primary-surface-color, white);\n",
              "                }\n",
              "            </style>\n",
              "            "
            ],
            "text/plain": [
              "<IPython.core.display.HTML object>"
            ]
          },
          "metadata": {},
          "output_type": "display_data"
        },
        {
          "data": {
            "text/plain": [
              "'\\nMap = geemap.Map(layout={\\'height\\':\\'400px\\', \\'width\\':\\'500px\\'})\\n\\nvis_params = {\\'bands\\':[\\'elevation\\'], \\'min\\': 0, \\'max\\': 1800, \\'palette\\': cm.palettes.terrain}\\nMap.addLayer(predictors, vis_params, \\'elevation\\')\\nMap.add_colorbar(vis_params, label=\"Elevation (m)\", orientation=\"vertical\", layer_name=\"elevation\")\\nMap.centerObject(bbox, 5)\\nMap'"
            ]
          },
          "execution_count": 34,
          "metadata": {},
          "output_type": "execute_result"
        }
      ],
      "source": [
        "# Elevation layer\n",
        "'''\n",
        "Map = geemap.Map(layout={'height':'400px', 'width':'500px'})\n",
        "\n",
        "vis_params = {'bands':['elevation'], 'min': 0, 'max': 1800, 'palette': cm.palettes.terrain}\n",
        "Map.addLayer(predictors, vis_params, 'elevation')\n",
        "Map.add_colorbar(vis_params, label=\"Elevation (m)\", orientation=\"vertical\", layer_name=\"elevation\")\n",
        "Map.centerObject(bbox, 5)\n",
        "Map'''\n"
      ]
    },
    {
      "cell_type": "code",
      "execution_count": 35,
      "metadata": {
        "id": "DOSMZpbsF8sH"
      },
      "outputs": [
        {
          "data": {
            "text/html": [
              "\n",
              "            <style>\n",
              "                .geemap-dark {\n",
              "                    --jp-widgets-color: white;\n",
              "                    --jp-widgets-label-color: white;\n",
              "                    --jp-ui-font-color1: white;\n",
              "                    --jp-layout-color2: #454545;\n",
              "                    background-color: #383838;\n",
              "                }\n",
              "\n",
              "                .geemap-dark .jupyter-button {\n",
              "                    --jp-layout-color3: #383838;\n",
              "                }\n",
              "\n",
              "                .geemap-colab {\n",
              "                    background-color: var(--colab-primary-surface-color, white);\n",
              "                }\n",
              "\n",
              "                .geemap-colab .jupyter-button {\n",
              "                    --jp-layout-color3: var(--colab-primary-surface-color, white);\n",
              "                }\n",
              "            </style>\n",
              "            "
            ],
            "text/plain": [
              "<IPython.core.display.HTML object>"
            ]
          },
          "metadata": {},
          "output_type": "display_data"
        },
        {
          "data": {
            "text/plain": [
              "'\\nmin_max_val = (\\n    predictors.select(\"bio09\")\\n    .multiply(0.1)\\n    .reduceRegion(reducer=ee.Reducer.minMax(), scale=1000)\\n    .getInfo()\\n)\\n\\n# bio09 (Mean temperature of driest quarter) layer\\nMap = geemap.Map(layout={\"height\": \"400px\", \"width\": \"500px\"})\\n\\nvis_params = {\\n    \"min\": math.floor(min_max_val[\"bio09_min\"]),\\n    \"max\": math.ceil(min_max_val[\"bio09_max\"]),\\n    \"palette\": cm.palettes.hot,\\n}\\nMap.addLayer(predictors.select(\"bio09\").multiply(0.1), vis_params, \"bio09\")\\nMap.add_colorbar(\\n    vis_params,\\n    label=\"Mean temperature of driest quarter (℃)\",\\n    orientation=\"vertical\",\\n    layer_name=\"bio09\",\\n)\\nMap.centerObject(bbox, 5)\\nMap\\n'"
            ]
          },
          "execution_count": 35,
          "metadata": {},
          "output_type": "execute_result"
        }
      ],
      "source": [
        "# Calculate the minimum and maximum values for bio09\n",
        "'''\n",
        "min_max_val = (\n",
        "    predictors.select(\"bio09\")\n",
        "    .multiply(0.1)\n",
        "    .reduceRegion(reducer=ee.Reducer.minMax(), scale=1000)\n",
        "    .getInfo()\n",
        ")\n",
        "\n",
        "# bio09 (Mean temperature of driest quarter) layer\n",
        "Map = geemap.Map(layout={\"height\": \"400px\", \"width\": \"500px\"})\n",
        "\n",
        "vis_params = {\n",
        "    \"min\": math.floor(min_max_val[\"bio09_min\"]),\n",
        "    \"max\": math.ceil(min_max_val[\"bio09_max\"]),\n",
        "    \"palette\": cm.palettes.hot,\n",
        "}\n",
        "Map.addLayer(predictors.select(\"bio09\").multiply(0.1), vis_params, \"bio09\")\n",
        "Map.add_colorbar(\n",
        "    vis_params,\n",
        "    label=\"Mean temperature of driest quarter (℃)\",\n",
        "    orientation=\"vertical\",\n",
        "    layer_name=\"bio09\",\n",
        ")\n",
        "Map.centerObject(bbox, 5)\n",
        "Map\n",
        "'''"
      ]
    },
    {
      "cell_type": "code",
      "execution_count": 36,
      "metadata": {},
      "outputs": [
        {
          "data": {
            "text/html": [
              "\n",
              "            <style>\n",
              "                .geemap-dark {\n",
              "                    --jp-widgets-color: white;\n",
              "                    --jp-widgets-label-color: white;\n",
              "                    --jp-ui-font-color1: white;\n",
              "                    --jp-layout-color2: #454545;\n",
              "                    background-color: #383838;\n",
              "                }\n",
              "\n",
              "                .geemap-dark .jupyter-button {\n",
              "                    --jp-layout-color3: #383838;\n",
              "                }\n",
              "\n",
              "                .geemap-colab {\n",
              "                    background-color: var(--colab-primary-surface-color, white);\n",
              "                }\n",
              "\n",
              "                .geemap-colab .jupyter-button {\n",
              "                    --jp-layout-color3: var(--colab-primary-surface-color, white);\n",
              "                }\n",
              "            </style>\n",
              "            "
            ],
            "text/plain": [
              "<IPython.core.display.HTML object>"
            ]
          },
          "metadata": {},
          "output_type": "display_data"
        },
        {
          "data": {
            "text/plain": [
              "'\\n# Calculate the minimum and maximum values for bio06\\nmin_max_val = (\\n    predictors.select(\"bio06\")\\n    .multiply(0.1)\\n    .reduceRegion(reducer=ee.Reducer.minMax(), scale=1000)\\n    .getInfo()\\n)\\n\\n# bio09 (Mean temperature of driest quarter) layer\\nMap = geemap.Map(layout={\"height\": \"400px\", \"width\": \"500px\"})\\n\\nvis_params = {\\n    \"min\": math.floor(min_max_val[\"bio06_min\"]),\\n    \"max\": math.ceil(min_max_val[\"bio06_max\"]),\\n    \"palette\": cm.palettes.RdYlBu_r,\\n}\\nMap.addLayer(predictors.select(\"bio06\").multiply(0.1), vis_params, \"bio06\")\\nMap.add_colorbar(\\n    vis_params,\\n    label=\"Min Temperature of Coldest Month (℃)\",\\n    orientation=\"vertical\",\\n    layer_name=\"bio06\",\\n)\\nMap.centerObject(bbox, 5)\\nMap\\n'"
            ]
          },
          "execution_count": 36,
          "metadata": {},
          "output_type": "execute_result"
        }
      ],
      "source": [
        "'''\n",
        "# Calculate the minimum and maximum values for bio06\n",
        "min_max_val = (\n",
        "    predictors.select(\"bio06\")\n",
        "    .multiply(0.1)\n",
        "    .reduceRegion(reducer=ee.Reducer.minMax(), scale=1000)\n",
        "    .getInfo()\n",
        ")\n",
        "\n",
        "# bio09 (Mean temperature of driest quarter) layer\n",
        "Map = geemap.Map(layout={\"height\": \"400px\", \"width\": \"500px\"})\n",
        "\n",
        "vis_params = {\n",
        "    \"min\": math.floor(min_max_val[\"bio06_min\"]),\n",
        "    \"max\": math.ceil(min_max_val[\"bio06_max\"]),\n",
        "    \"palette\": cm.palettes.RdYlBu_r,\n",
        "}\n",
        "Map.addLayer(predictors.select(\"bio06\").multiply(0.1), vis_params, \"bio06\")\n",
        "Map.add_colorbar(\n",
        "    vis_params,\n",
        "    label=\"Min Temperature of Coldest Month (℃)\",\n",
        "    orientation=\"vertical\",\n",
        "    layer_name=\"bio06\",\n",
        ")\n",
        "Map.centerObject(bbox, 5)\n",
        "Map\n",
        "'''"
      ]
    },
    {
      "cell_type": "code",
      "execution_count": 37,
      "metadata": {
        "id": "cQpG8qRzIQcw"
      },
      "outputs": [
        {
          "data": {
            "text/html": [
              "\n",
              "            <style>\n",
              "                .geemap-dark {\n",
              "                    --jp-widgets-color: white;\n",
              "                    --jp-widgets-label-color: white;\n",
              "                    --jp-ui-font-color1: white;\n",
              "                    --jp-layout-color2: #454545;\n",
              "                    background-color: #383838;\n",
              "                }\n",
              "\n",
              "                .geemap-dark .jupyter-button {\n",
              "                    --jp-layout-color3: #383838;\n",
              "                }\n",
              "\n",
              "                .geemap-colab {\n",
              "                    background-color: var(--colab-primary-surface-color, white);\n",
              "                }\n",
              "\n",
              "                .geemap-colab .jupyter-button {\n",
              "                    --jp-layout-color3: var(--colab-primary-surface-color, white);\n",
              "                }\n",
              "            </style>\n",
              "            "
            ],
            "text/plain": [
              "<IPython.core.display.HTML object>"
            ]
          },
          "metadata": {},
          "output_type": "display_data"
        },
        {
          "data": {
            "text/plain": [
              "'\\n# Slope layer\\nMap = geemap.Map(layout={\\'height\\':\\'400px\\', \\'width\\':\\'500px\\'})\\n\\nvis_params = {\\'bands\\':[\\'slope\\'], \\'min\\': 0, \\'max\\': 25, \\'palette\\': cm.palettes.RdYlGn_r}\\nMap.addLayer(predictors, vis_params, \\'slope\\')\\nMap.add_colorbar(vis_params, label=\"Slope\", orientation=\"vertical\", layer_name=\"slope\")\\nMap.centerObject(bbox, 5)\\nMap\\n'"
            ]
          },
          "execution_count": 37,
          "metadata": {},
          "output_type": "execute_result"
        }
      ],
      "source": [
        "'''\n",
        "# Slope layer\n",
        "Map = geemap.Map(layout={'height':'400px', 'width':'500px'})\n",
        "\n",
        "vis_params = {'bands':['slope'], 'min': 0, 'max': 25, 'palette': cm.palettes.RdYlGn_r}\n",
        "Map.addLayer(predictors, vis_params, 'slope')\n",
        "Map.add_colorbar(vis_params, label=\"Slope\", orientation=\"vertical\", layer_name=\"slope\")\n",
        "Map.centerObject(bbox, 5)\n",
        "Map\n",
        "'''"
      ]
    },
    {
      "cell_type": "code",
      "execution_count": 38,
      "metadata": {
        "id": "u1hW_wAXIvvG"
      },
      "outputs": [
        {
          "data": {
            "text/html": [
              "\n",
              "            <style>\n",
              "                .geemap-dark {\n",
              "                    --jp-widgets-color: white;\n",
              "                    --jp-widgets-label-color: white;\n",
              "                    --jp-ui-font-color1: white;\n",
              "                    --jp-layout-color2: #454545;\n",
              "                    background-color: #383838;\n",
              "                }\n",
              "\n",
              "                .geemap-dark .jupyter-button {\n",
              "                    --jp-layout-color3: #383838;\n",
              "                }\n",
              "\n",
              "                .geemap-colab {\n",
              "                    background-color: var(--colab-primary-surface-color, white);\n",
              "                }\n",
              "\n",
              "                .geemap-colab .jupyter-button {\n",
              "                    --jp-layout-color3: var(--colab-primary-surface-color, white);\n",
              "                }\n",
              "            </style>\n",
              "            "
            ],
            "text/plain": [
              "<IPython.core.display.HTML object>"
            ]
          },
          "metadata": {},
          "output_type": "display_data"
        },
        {
          "data": {
            "text/plain": [
              "'\\n# Aspect layer\\nMap = geemap.Map(layout={\\'height\\':\\'400px\\', \\'width\\':\\'500px\\'})\\n\\nvis_params = {\\'bands\\':[\\'aspect\\'], \\'min\\': 0, \\'max\\': 360, \\'palette\\': cm.palettes.rainbow}\\nMap.addLayer(predictors, vis_params, \\'aspect\\')\\nMap.add_colorbar(vis_params, label=\"Aspect\", orientation=\"vertical\", layer_name=\"aspect\")\\nMap.centerObject(bbox, 5)\\nMap\\n'"
            ]
          },
          "execution_count": 38,
          "metadata": {},
          "output_type": "execute_result"
        }
      ],
      "source": [
        "'''\n",
        "# Aspect layer\n",
        "Map = geemap.Map(layout={'height':'400px', 'width':'500px'})\n",
        "\n",
        "vis_params = {'bands':['aspect'], 'min': 0, 'max': 360, 'palette': cm.palettes.rainbow}\n",
        "Map.addLayer(predictors, vis_params, 'aspect')\n",
        "Map.add_colorbar(vis_params, label=\"Aspect\", orientation=\"vertical\", layer_name=\"aspect\")\n",
        "Map.centerObject(bbox, 5)\n",
        "Map\n",
        "'''\n"
      ]
    },
    {
      "cell_type": "code",
      "execution_count": 39,
      "metadata": {
        "id": "C49-BnnxJGUD"
      },
      "outputs": [
        {
          "data": {
            "text/html": [
              "\n",
              "            <style>\n",
              "                .geemap-dark {\n",
              "                    --jp-widgets-color: white;\n",
              "                    --jp-widgets-label-color: white;\n",
              "                    --jp-ui-font-color1: white;\n",
              "                    --jp-layout-color2: #454545;\n",
              "                    background-color: #383838;\n",
              "                }\n",
              "\n",
              "                .geemap-dark .jupyter-button {\n",
              "                    --jp-layout-color3: #383838;\n",
              "                }\n",
              "\n",
              "                .geemap-colab {\n",
              "                    background-color: var(--colab-primary-surface-color, white);\n",
              "                }\n",
              "\n",
              "                .geemap-colab .jupyter-button {\n",
              "                    --jp-layout-color3: var(--colab-primary-surface-color, white);\n",
              "                }\n",
              "            </style>\n",
              "            "
            ],
            "text/plain": [
              "<IPython.core.display.HTML object>"
            ]
          },
          "metadata": {},
          "output_type": "display_data"
        },
        {
          "data": {
            "text/plain": [
              "'\\n# Calculate the minimum and maximum values for bio14\\nmin_max_val = (\\n    predictors.select(\"bio14\")\\n    .reduceRegion(reducer=ee.Reducer.minMax(), scale=1000)\\n    .getInfo()\\n)\\n\\n# bio14 (Precipitation of driest month) layer\\nMap = geemap.Map(layout={\"height\": \"400px\", \"width\": \"500px\"})\\n\\nvis_params = {\\n    \"bands\": [\"bio14\"],\\n    \"min\": math.floor(min_max_val[\"bio14_min\"]),\\n    \"max\": math.ceil(min_max_val[\"bio14_max\"]),\\n    \"palette\": cm.palettes.Blues,\\n}\\nMap.addLayer(predictors, vis_params, \"bio14\")\\nMap.add_colorbar(\\n    vis_params,\\n    label=\"Precipitation of driest month (mm)\",\\n    orientation=\"vertical\",\\n    layer_name=\"bio14\",\\n)\\nMap.centerObject(bbox, 5)\\nMap\\n'"
            ]
          },
          "execution_count": 39,
          "metadata": {},
          "output_type": "execute_result"
        }
      ],
      "source": [
        "'''\n",
        "# Calculate the minimum and maximum values for bio14\n",
        "min_max_val = (\n",
        "    predictors.select(\"bio14\")\n",
        "    .reduceRegion(reducer=ee.Reducer.minMax(), scale=1000)\n",
        "    .getInfo()\n",
        ")\n",
        "\n",
        "# bio14 (Precipitation of driest month) layer\n",
        "Map = geemap.Map(layout={\"height\": \"400px\", \"width\": \"500px\"})\n",
        "\n",
        "vis_params = {\n",
        "    \"bands\": [\"bio14\"],\n",
        "    \"min\": math.floor(min_max_val[\"bio14_min\"]),\n",
        "    \"max\": math.ceil(min_max_val[\"bio14_max\"]),\n",
        "    \"palette\": cm.palettes.Blues,\n",
        "}\n",
        "Map.addLayer(predictors, vis_params, \"bio14\")\n",
        "Map.add_colorbar(\n",
        "    vis_params,\n",
        "    label=\"Precipitation of driest month (mm)\",\n",
        "    orientation=\"vertical\",\n",
        "    layer_name=\"bio14\",\n",
        ")\n",
        "Map.centerObject(bbox, 5)\n",
        "Map\n",
        "'''"
      ]
    },
    {
      "cell_type": "code",
      "execution_count": 40,
      "metadata": {
        "id": "zKVnKhLYJicg"
      },
      "outputs": [
        {
          "data": {
            "text/html": [
              "\n",
              "            <style>\n",
              "                .geemap-dark {\n",
              "                    --jp-widgets-color: white;\n",
              "                    --jp-widgets-label-color: white;\n",
              "                    --jp-ui-font-color1: white;\n",
              "                    --jp-layout-color2: #454545;\n",
              "                    background-color: #383838;\n",
              "                }\n",
              "\n",
              "                .geemap-dark .jupyter-button {\n",
              "                    --jp-layout-color3: #383838;\n",
              "                }\n",
              "\n",
              "                .geemap-colab {\n",
              "                    background-color: var(--colab-primary-surface-color, white);\n",
              "                }\n",
              "\n",
              "                .geemap-colab .jupyter-button {\n",
              "                    --jp-layout-color3: var(--colab-primary-surface-color, white);\n",
              "                }\n",
              "            </style>\n",
              "            "
            ],
            "text/plain": [
              "<IPython.core.display.HTML object>"
            ]
          },
          "metadata": {},
          "output_type": "display_data"
        },
        {
          "data": {
            "text/plain": [
              "'\\n# TCC layer\\nMap = geemap.Map(layout={\"height\": \"400px\", \"width\": \"500px\"})\\n\\nvis_params = {\\n    \"bands\": [\"TCC\"],\\n    \"min\": 0,\\n    \"max\": 100,\\n    \"palette\": [\"ffffff\", \"afce56\", \"5f9c00\", \"0e6a00\", \"003800\"],\\n}\\nMap.addLayer(predictors, vis_params, \"TCC\")\\nMap.add_colorbar(\\n    vis_params, label=\"Tree Canopy Cover (%)\", orientation=\"vertical\", layer_name=\"TCC\"\\n)\\nMap.centerObject(bbox, 5)\\nMap\\n'"
            ]
          },
          "execution_count": 40,
          "metadata": {},
          "output_type": "execute_result"
        }
      ],
      "source": [
        "'''\n",
        "# TCC layer\n",
        "Map = geemap.Map(layout={\"height\": \"400px\", \"width\": \"500px\"})\n",
        "\n",
        "vis_params = {\n",
        "    \"bands\": [\"TCC\"],\n",
        "    \"min\": 0,\n",
        "    \"max\": 100,\n",
        "    \"palette\": [\"ffffff\", \"afce56\", \"5f9c00\", \"0e6a00\", \"003800\"],\n",
        "}\n",
        "Map.addLayer(predictors, vis_params, \"TCC\")\n",
        "Map.add_colorbar(\n",
        "    vis_params, label=\"Tree Canopy Cover (%)\", orientation=\"vertical\", layer_name=\"TCC\"\n",
        ")\n",
        "Map.centerObject(bbox, 5)\n",
        "Map\n",
        "'''"
      ]
    },
    {
      "cell_type": "markdown",
      "metadata": {},
      "source": [
        "## 3 Generation of pseudo-absence data\n"
      ]
    },
    {
      "cell_type": "markdown",
      "metadata": {},
      "source": [
        "This is what I found to be the most important part in SDM, the generation of pseudo-absence data. There are two approaches that can be used for SDM, which sometimes in the literature are used interchangeably:\n",
        "\n",
        "1) **Presence-Background Method**: In this method, we only use our presence data where the species has observed. Locations where the species has not been observed are labelled as background. The species can appear in the background areas. Background data is used to describe the environmental aspects of the whole area of interst. Using MaxEnt algorithms we can predict where the species is likely to exist. This was initially used in SDM as it is safer than method 2.\n",
        "\n",
        "2) **Presence-Absence Method**: For this method, we require presence data and absence data. Absence data, unlike background data, are places were the species is known to not exist. In this case, we can train classifiers like Random Forests to determine the habitat **AND** we can also determine the importance of environmental factors on the suitability of the habitat.\n",
        "\n",
        "Absence data is almost impossible to come by and in our GBIF data we also only have presence data. The way to go is to create **pseudo-absence data**. I will present 2 approaches and compare their results here:\n",
        "\n",
        "1) Random Sampling with buffer: We randomly sample the aoi just not where presence data is available. And we put a buffer around the presence data location. So that the random samples are also not taking in the vincinity of the presence location. \n",
        "\n",
        "2) Environmental Profiling: Similar to before we take random sample of our background, but this time we use them to group the whole study area into presence and absence area using k-means clustering with k=2. We compare the environmental variables at the presence locations and the randomly chosen background and group all points depending if they are more similar to the presence location or the background.\n",
        "\n",
        "Method 1 depends on our choice of the buffer size. Too large and we will not be able to classify the border areas between presence and absence properly. Too small and parts of the presence area could be classified as absence.\n",
        "\n",
        "With method 2, we strongly rely clustering to give good results. But if done correctly, this can be a powerful tool."
      ]
    },
    {
      "cell_type": "markdown",
      "metadata": {},
      "source": [
        "For the implementation, we use a Rejection Sampling method. We sample a random point from the grid and check if it is inside the buffer zone, if yes we repeat the sampling, if no, we keep the sample and move on to the next one. We do this until have as many pseudo-absence points as we have presence points.\n",
        "\n",
        "This is way more efficient than trying to remove the buffered areas from the grid. (We would need to check 600k coordinates against 3k)."
      ]
    },
    {
      "cell_type": "code",
      "execution_count": 41,
      "metadata": {},
      "outputs": [
        {
          "data": {
            "text/html": [
              "\n",
              "            <style>\n",
              "                .geemap-dark {\n",
              "                    --jp-widgets-color: white;\n",
              "                    --jp-widgets-label-color: white;\n",
              "                    --jp-ui-font-color1: white;\n",
              "                    --jp-layout-color2: #454545;\n",
              "                    background-color: #383838;\n",
              "                }\n",
              "\n",
              "                .geemap-dark .jupyter-button {\n",
              "                    --jp-layout-color3: #383838;\n",
              "                }\n",
              "\n",
              "                .geemap-colab {\n",
              "                    background-color: var(--colab-primary-surface-color, white);\n",
              "                }\n",
              "\n",
              "                .geemap-colab .jupyter-button {\n",
              "                    --jp-layout-color3: var(--colab-primary-surface-color, white);\n",
              "                }\n",
              "            </style>\n",
              "            "
            ],
            "text/plain": [
              "<IPython.core.display.HTML object>"
            ]
          },
          "metadata": {},
          "output_type": "display_data"
        },
        {
          "data": {
            "text/plain": [
              "'\\n### Get the pseudo-absence points\\n\\n# Ensure CRS is metric (e.g. EPSG:3857)\\ngdf_species = gdf_species.to_crs(epsg=3857)\\ngdf_predictors = gdf_predictors.to_crs(epsg=3857)\\n\\n# Build 5 km buffer around occurrences\\nbuffer_size = 3000\\ngdf_buffered = gdf.buffer(buffer_size)\\n\\n# Build 5 km buffer around occurrences\\nbuffer_union = unary_union(gdf.buffer(5000))\\n\\n\\n# Create spatial index for faster geometry checks (optional, depending on GeoPandas version)\\n# We\\'ll work with a list of available geometries to sample from\\npredictor_geoms = gdf_predictors[\"geometry\"].values\\n\\n# Function to efficiently draw N valid samples\\ndef sample_outside_buffer(predictor_geoms, buffer_union, n_samples, random_state=42):\\n    np.random.seed(random_state)\\n    allowed = []\\n    max_attempts = n_samples * 10\\n    attempts = 0\\n\\n    while len(allowed) < n_samples and attempts < max_attempts:\\n        # Randomly pick an index\\n        idx = np.random.randint(0, len(predictor_geoms))\\n        pt = predictor_geoms[idx]\\n\\n        # Only keep if outside buffer\\n        if not pt.intersects(buffer_union):\\n            allowed.append(pt)\\n        attempts += 1\\n\\n    if len(allowed) < n_samples:\\n        print(f\"Warning: only {len(allowed)} points found after {attempts} attempts\")\\n    return gpd.GeoDataFrame(geometry=allowed, crs=gdf_predictors.crs)\\n\\n# Sample e.g. same number of points as presence data\\ngdf_pseudo_absence = sample_outside_buffer(predictor_geoms, buffer_union, n_samples=len(gdf))\\n\\ngdf_pseudo_absence = gdf_pseudo_absence.sjoin_nearest(\\n    gdf_predictors,\\n    how=\"left\",      # keep all species rows\\n)\\n\\ngdf_pseudo_absence = gdf_pseudo_absence.drop(columns=\"index_right\")\\n'"
            ]
          },
          "execution_count": 41,
          "metadata": {},
          "output_type": "execute_result"
        }
      ],
      "source": [
        "'''\n",
        "### Get the pseudo-absence points\n",
        "\n",
        "# Ensure CRS is metric (e.g. EPSG:3857)\n",
        "gdf_species = gdf_species.to_crs(epsg=3857)\n",
        "gdf_predictors = gdf_predictors.to_crs(epsg=3857)\n",
        "\n",
        "# Build 5 km buffer around occurrences\n",
        "buffer_size = 3000\n",
        "gdf_buffered = gdf.buffer(buffer_size)\n",
        "\n",
        "# Build 5 km buffer around occurrences\n",
        "buffer_union = unary_union(gdf.buffer(5000))\n",
        "\n",
        "\n",
        "# Create spatial index for faster geometry checks (optional, depending on GeoPandas version)\n",
        "# We'll work with a list of available geometries to sample from\n",
        "predictor_geoms = gdf_predictors[\"geometry\"].values\n",
        "\n",
        "# Function to efficiently draw N valid samples\n",
        "def sample_outside_buffer(predictor_geoms, buffer_union, n_samples, random_state=42):\n",
        "    np.random.seed(random_state)\n",
        "    allowed = []\n",
        "    max_attempts = n_samples * 10\n",
        "    attempts = 0\n",
        "\n",
        "    while len(allowed) < n_samples and attempts < max_attempts:\n",
        "        # Randomly pick an index\n",
        "        idx = np.random.randint(0, len(predictor_geoms))\n",
        "        pt = predictor_geoms[idx]\n",
        "\n",
        "        # Only keep if outside buffer\n",
        "        if not pt.intersects(buffer_union):\n",
        "            allowed.append(pt)\n",
        "        attempts += 1\n",
        "\n",
        "    if len(allowed) < n_samples:\n",
        "        print(f\"Warning: only {len(allowed)} points found after {attempts} attempts\")\n",
        "    return gpd.GeoDataFrame(geometry=allowed, crs=gdf_predictors.crs)\n",
        "\n",
        "# Sample e.g. same number of points as presence data\n",
        "gdf_pseudo_absence = sample_outside_buffer(predictor_geoms, buffer_union, n_samples=len(gdf))\n",
        "\n",
        "gdf_pseudo_absence = gdf_pseudo_absence.sjoin_nearest(\n",
        "    gdf_predictors,\n",
        "    how=\"left\",      # keep all species rows\n",
        ")\n",
        "\n",
        "gdf_pseudo_absence = gdf_pseudo_absence.drop(columns=\"index_right\")\n",
        "'''"
      ]
    },
    {
      "cell_type": "markdown",
      "metadata": {},
      "source": [
        "Before we can start with the kmeans grouping, we need to add the predictor variables to gdf_species. This is also called a nearest neighbour join."
      ]
    },
    {
      "cell_type": "code",
      "execution_count": 42,
      "metadata": {},
      "outputs": [
        {
          "data": {
            "text/html": [
              "\n",
              "            <style>\n",
              "                .geemap-dark {\n",
              "                    --jp-widgets-color: white;\n",
              "                    --jp-widgets-label-color: white;\n",
              "                    --jp-ui-font-color1: white;\n",
              "                    --jp-layout-color2: #454545;\n",
              "                    background-color: #383838;\n",
              "                }\n",
              "\n",
              "                .geemap-dark .jupyter-button {\n",
              "                    --jp-layout-color3: #383838;\n",
              "                }\n",
              "\n",
              "                .geemap-colab {\n",
              "                    background-color: var(--colab-primary-surface-color, white);\n",
              "                }\n",
              "\n",
              "                .geemap-colab .jupyter-button {\n",
              "                    --jp-layout-color3: var(--colab-primary-surface-color, white);\n",
              "                }\n",
              "            </style>\n",
              "            "
            ],
            "text/plain": [
              "<IPython.core.display.HTML object>"
            ]
          },
          "metadata": {},
          "output_type": "display_data"
        },
        {
          "data": {
            "text/html": [
              "<div>\n",
              "<style scoped>\n",
              "    .dataframe tbody tr th:only-of-type {\n",
              "        vertical-align: middle;\n",
              "    }\n",
              "\n",
              "    .dataframe tbody tr th {\n",
              "        vertical-align: top;\n",
              "    }\n",
              "\n",
              "    .dataframe thead th {\n",
              "        text-align: right;\n",
              "    }\n",
              "</style>\n",
              "<table border=\"1\" class=\"dataframe\">\n",
              "  <thead>\n",
              "    <tr style=\"text-align: right;\">\n",
              "      <th></th>\n",
              "      <th>TCC</th>\n",
              "      <th>aspect</th>\n",
              "      <th>bio06</th>\n",
              "      <th>bio09</th>\n",
              "      <th>bio14</th>\n",
              "      <th>elevation</th>\n",
              "      <th>slope</th>\n",
              "      <th>geometry</th>\n",
              "    </tr>\n",
              "  </thead>\n",
              "  <tbody>\n",
              "    <tr>\n",
              "      <th>0</th>\n",
              "      <td>0.0</td>\n",
              "      <td>229</td>\n",
              "      <td>-137</td>\n",
              "      <td>27</td>\n",
              "      <td>151</td>\n",
              "      <td>3008</td>\n",
              "      <td>16</td>\n",
              "      <td>POINT (6.79576 45.8006)</td>\n",
              "    </tr>\n",
              "    <tr>\n",
              "      <th>1</th>\n",
              "      <td>0.5</td>\n",
              "      <td>276</td>\n",
              "      <td>-143</td>\n",
              "      <td>20</td>\n",
              "      <td>155</td>\n",
              "      <td>3354</td>\n",
              "      <td>25</td>\n",
              "      <td>POINT (6.80474 45.8006)</td>\n",
              "    </tr>\n",
              "    <tr>\n",
              "      <th>2</th>\n",
              "      <td>0.5</td>\n",
              "      <td>18</td>\n",
              "      <td>-156</td>\n",
              "      <td>2</td>\n",
              "      <td>162</td>\n",
              "      <td>3638</td>\n",
              "      <td>4</td>\n",
              "      <td>POINT (6.81372 45.8006)</td>\n",
              "    </tr>\n",
              "    <tr>\n",
              "      <th>3</th>\n",
              "      <td>1.0</td>\n",
              "      <td>60</td>\n",
              "      <td>-139</td>\n",
              "      <td>23</td>\n",
              "      <td>153</td>\n",
              "      <td>3326</td>\n",
              "      <td>31</td>\n",
              "      <td>POINT (6.8227 45.8006)</td>\n",
              "    </tr>\n",
              "    <tr>\n",
              "      <th>4</th>\n",
              "      <td>3.0</td>\n",
              "      <td>58</td>\n",
              "      <td>-117</td>\n",
              "      <td>57</td>\n",
              "      <td>139</td>\n",
              "      <td>2923</td>\n",
              "      <td>36</td>\n",
              "      <td>POINT (6.83169 45.8006)</td>\n",
              "    </tr>\n",
              "    <tr>\n",
              "      <th>...</th>\n",
              "      <td>...</td>\n",
              "      <td>...</td>\n",
              "      <td>...</td>\n",
              "      <td>...</td>\n",
              "      <td>...</td>\n",
              "      <td>...</td>\n",
              "      <td>...</td>\n",
              "      <td>...</td>\n",
              "    </tr>\n",
              "    <tr>\n",
              "      <th>410038</th>\n",
              "      <td>43.5</td>\n",
              "      <td>244</td>\n",
              "      <td>13</td>\n",
              "      <td>57</td>\n",
              "      <td>74</td>\n",
              "      <td>171</td>\n",
              "      <td>1</td>\n",
              "      <td>POINT (13.6499 45.79162)</td>\n",
              "    </tr>\n",
              "    <tr>\n",
              "      <th>410039</th>\n",
              "      <td>47.5</td>\n",
              "      <td>277</td>\n",
              "      <td>12</td>\n",
              "      <td>55</td>\n",
              "      <td>74</td>\n",
              "      <td>181</td>\n",
              "      <td>1</td>\n",
              "      <td>POINT (13.65888 45.79162)</td>\n",
              "    </tr>\n",
              "    <tr>\n",
              "      <th>410040</th>\n",
              "      <td>48.5</td>\n",
              "      <td>326</td>\n",
              "      <td>12</td>\n",
              "      <td>55</td>\n",
              "      <td>74</td>\n",
              "      <td>189</td>\n",
              "      <td>1</td>\n",
              "      <td>POINT (13.66787 45.79162)</td>\n",
              "    </tr>\n",
              "    <tr>\n",
              "      <th>410041</th>\n",
              "      <td>47.5</td>\n",
              "      <td>325</td>\n",
              "      <td>11</td>\n",
              "      <td>55</td>\n",
              "      <td>75</td>\n",
              "      <td>195</td>\n",
              "      <td>1</td>\n",
              "      <td>POINT (13.67685 45.79162)</td>\n",
              "    </tr>\n",
              "    <tr>\n",
              "      <th>410042</th>\n",
              "      <td>48.0</td>\n",
              "      <td>35</td>\n",
              "      <td>10</td>\n",
              "      <td>54</td>\n",
              "      <td>75</td>\n",
              "      <td>208</td>\n",
              "      <td>3</td>\n",
              "      <td>POINT (13.68583 45.79162)</td>\n",
              "    </tr>\n",
              "  </tbody>\n",
              "</table>\n",
              "<p>410043 rows × 8 columns</p>\n",
              "</div>"
            ],
            "text/plain": [
              "         TCC  aspect  bio06  bio09  bio14  elevation  slope  \\\n",
              "0        0.0     229   -137     27    151       3008     16   \n",
              "1        0.5     276   -143     20    155       3354     25   \n",
              "2        0.5      18   -156      2    162       3638      4   \n",
              "3        1.0      60   -139     23    153       3326     31   \n",
              "4        3.0      58   -117     57    139       2923     36   \n",
              "...      ...     ...    ...    ...    ...        ...    ...   \n",
              "410038  43.5     244     13     57     74        171      1   \n",
              "410039  47.5     277     12     55     74        181      1   \n",
              "410040  48.5     326     12     55     74        189      1   \n",
              "410041  47.5     325     11     55     75        195      1   \n",
              "410042  48.0      35     10     54     75        208      3   \n",
              "\n",
              "                         geometry  \n",
              "0         POINT (6.79576 45.8006)  \n",
              "1         POINT (6.80474 45.8006)  \n",
              "2         POINT (6.81372 45.8006)  \n",
              "3          POINT (6.8227 45.8006)  \n",
              "4         POINT (6.83169 45.8006)  \n",
              "...                           ...  \n",
              "410038   POINT (13.6499 45.79162)  \n",
              "410039  POINT (13.65888 45.79162)  \n",
              "410040  POINT (13.66787 45.79162)  \n",
              "410041  POINT (13.67685 45.79162)  \n",
              "410042  POINT (13.68583 45.79162)  \n",
              "\n",
              "[410043 rows x 8 columns]"
            ]
          },
          "execution_count": 42,
          "metadata": {},
          "output_type": "execute_result"
        }
      ],
      "source": [
        "gdf_predictors"
      ]
    },
    {
      "cell_type": "code",
      "execution_count": 43,
      "metadata": {},
      "outputs": [
        {
          "data": {
            "text/html": [
              "\n",
              "            <style>\n",
              "                .geemap-dark {\n",
              "                    --jp-widgets-color: white;\n",
              "                    --jp-widgets-label-color: white;\n",
              "                    --jp-ui-font-color1: white;\n",
              "                    --jp-layout-color2: #454545;\n",
              "                    background-color: #383838;\n",
              "                }\n",
              "\n",
              "                .geemap-dark .jupyter-button {\n",
              "                    --jp-layout-color3: #383838;\n",
              "                }\n",
              "\n",
              "                .geemap-colab {\n",
              "                    background-color: var(--colab-primary-surface-color, white);\n",
              "                }\n",
              "\n",
              "                .geemap-colab .jupyter-button {\n",
              "                    --jp-layout-color3: var(--colab-primary-surface-color, white);\n",
              "                }\n",
              "            </style>\n",
              "            "
            ],
            "text/plain": [
              "<IPython.core.display.HTML object>"
            ]
          },
          "metadata": {},
          "output_type": "display_data"
        },
        {
          "data": {
            "text/html": [
              "<div>\n",
              "<style scoped>\n",
              "    .dataframe tbody tr th:only-of-type {\n",
              "        vertical-align: middle;\n",
              "    }\n",
              "\n",
              "    .dataframe tbody tr th {\n",
              "        vertical-align: top;\n",
              "    }\n",
              "\n",
              "    .dataframe thead th {\n",
              "        text-align: right;\n",
              "    }\n",
              "</style>\n",
              "<table border=\"1\" class=\"dataframe\">\n",
              "  <thead>\n",
              "    <tr style=\"text-align: right;\">\n",
              "      <th></th>\n",
              "      <th>geometry</th>\n",
              "      <th>TCC</th>\n",
              "      <th>aspect</th>\n",
              "      <th>bio06</th>\n",
              "      <th>bio09</th>\n",
              "      <th>bio14</th>\n",
              "      <th>elevation</th>\n",
              "      <th>slope</th>\n",
              "    </tr>\n",
              "  </thead>\n",
              "  <tbody>\n",
              "    <tr>\n",
              "      <th>0</th>\n",
              "      <td>POINT (11.28733 42.43192)</td>\n",
              "      <td>6.0</td>\n",
              "      <td>254</td>\n",
              "      <td>48</td>\n",
              "      <td>225</td>\n",
              "      <td>10</td>\n",
              "      <td>7</td>\n",
              "      <td>2</td>\n",
              "    </tr>\n",
              "    <tr>\n",
              "      <th>1</th>\n",
              "      <td>POINT (12.32938 45.04602)</td>\n",
              "      <td>5.0</td>\n",
              "      <td>235</td>\n",
              "      <td>7</td>\n",
              "      <td>55</td>\n",
              "      <td>48</td>\n",
              "      <td>-3</td>\n",
              "      <td>0</td>\n",
              "    </tr>\n",
              "    <tr>\n",
              "      <th>2</th>\n",
              "      <td>POINT (10.82021 43.79736)</td>\n",
              "      <td>6.0</td>\n",
              "      <td>222</td>\n",
              "      <td>22</td>\n",
              "      <td>227</td>\n",
              "      <td>31</td>\n",
              "      <td>20</td>\n",
              "      <td>1</td>\n",
              "    </tr>\n",
              "    <tr>\n",
              "      <th>3</th>\n",
              "      <td>POINT (8.44866 45.40535)</td>\n",
              "      <td>9.0</td>\n",
              "      <td>180</td>\n",
              "      <td>-23</td>\n",
              "      <td>26</td>\n",
              "      <td>51</td>\n",
              "      <td>141</td>\n",
              "      <td>0</td>\n",
              "    </tr>\n",
              "    <tr>\n",
              "      <th>4</th>\n",
              "      <td>POINT (18.11453 39.88969)</td>\n",
              "      <td>3.0</td>\n",
              "      <td>189</td>\n",
              "      <td>72</td>\n",
              "      <td>246</td>\n",
              "      <td>15</td>\n",
              "      <td>10</td>\n",
              "      <td>0</td>\n",
              "    </tr>\n",
              "    <tr>\n",
              "      <th>...</th>\n",
              "      <td>...</td>\n",
              "      <td>...</td>\n",
              "      <td>...</td>\n",
              "      <td>...</td>\n",
              "      <td>...</td>\n",
              "      <td>...</td>\n",
              "      <td>...</td>\n",
              "      <td>...</td>\n",
              "    </tr>\n",
              "    <tr>\n",
              "      <th>2030</th>\n",
              "      <td>POINT (8.26001 45.23467)</td>\n",
              "      <td>44.0</td>\n",
              "      <td>11</td>\n",
              "      <td>-18</td>\n",
              "      <td>28</td>\n",
              "      <td>45</td>\n",
              "      <td>158</td>\n",
              "      <td>0</td>\n",
              "    </tr>\n",
              "    <tr>\n",
              "      <th>2031</th>\n",
              "      <td>POINT (10.33512 45.19873)</td>\n",
              "      <td>4.5</td>\n",
              "      <td>223</td>\n",
              "      <td>-20</td>\n",
              "      <td>44</td>\n",
              "      <td>52</td>\n",
              "      <td>38</td>\n",
              "      <td>0</td>\n",
              "    </tr>\n",
              "    <tr>\n",
              "      <th>2032</th>\n",
              "      <td>POINT (8.54747 45.46823)</td>\n",
              "      <td>8.5</td>\n",
              "      <td>168</td>\n",
              "      <td>-27</td>\n",
              "      <td>24</td>\n",
              "      <td>53</td>\n",
              "      <td>158</td>\n",
              "      <td>0</td>\n",
              "    </tr>\n",
              "    <tr>\n",
              "      <th>2033</th>\n",
              "      <td>POINT (9.58053 45.65687)</td>\n",
              "      <td>6.0</td>\n",
              "      <td>270</td>\n",
              "      <td>-16</td>\n",
              "      <td>49</td>\n",
              "      <td>55</td>\n",
              "      <td>182</td>\n",
              "      <td>0</td>\n",
              "    </tr>\n",
              "    <tr>\n",
              "      <th>2034</th>\n",
              "      <td>POINT (12.0509 44.90229)</td>\n",
              "      <td>7.0</td>\n",
              "      <td>55</td>\n",
              "      <td>6</td>\n",
              "      <td>54</td>\n",
              "      <td>45</td>\n",
              "      <td>-6</td>\n",
              "      <td>0</td>\n",
              "    </tr>\n",
              "  </tbody>\n",
              "</table>\n",
              "<p>2048 rows × 8 columns</p>\n",
              "</div>"
            ],
            "text/plain": [
              "                       geometry   TCC  aspect  bio06  bio09  bio14  elevation  \\\n",
              "0     POINT (11.28733 42.43192)   6.0     254     48    225     10          7   \n",
              "1     POINT (12.32938 45.04602)   5.0     235      7     55     48         -3   \n",
              "2     POINT (10.82021 43.79736)   6.0     222     22    227     31         20   \n",
              "3      POINT (8.44866 45.40535)   9.0     180    -23     26     51        141   \n",
              "4     POINT (18.11453 39.88969)   3.0     189     72    246     15         10   \n",
              "...                         ...   ...     ...    ...    ...    ...        ...   \n",
              "2030   POINT (8.26001 45.23467)  44.0      11    -18     28     45        158   \n",
              "2031  POINT (10.33512 45.19873)   4.5     223    -20     44     52         38   \n",
              "2032   POINT (8.54747 45.46823)   8.5     168    -27     24     53        158   \n",
              "2033   POINT (9.58053 45.65687)   6.0     270    -16     49     55        182   \n",
              "2034   POINT (12.0509 44.90229)   7.0      55      6     54     45         -6   \n",
              "\n",
              "      slope  \n",
              "0         2  \n",
              "1         0  \n",
              "2         1  \n",
              "3         0  \n",
              "4         0  \n",
              "...     ...  \n",
              "2030      0  \n",
              "2031      0  \n",
              "2032      0  \n",
              "2033      0  \n",
              "2034      0  \n",
              "\n",
              "[2048 rows x 8 columns]"
            ]
          },
          "execution_count": 43,
          "metadata": {},
          "output_type": "execute_result"
        }
      ],
      "source": [
        "gdf_species = gdf_species.sjoin_nearest(\n",
        "    gdf_predictors,\n",
        "    how=\"left\",      # keep all species rows\n",
        ")\n",
        "gdf_species= gdf_species.drop(columns=['month', 'year', 'index_right', 'random', 'species'])\n",
        "gdf_species\n"
      ]
    },
    {
      "cell_type": "markdown",
      "metadata": {},
      "source": [
        "Now, we are ready for the kmeans clustering. \n",
        "1) We have to train the algorithm to learn the features of the occurence and the pseudo-absence data\n",
        "2) We apply it to the whole area"
      ]
    },
    {
      "cell_type": "code",
      "execution_count": 44,
      "metadata": {},
      "outputs": [
        {
          "data": {
            "text/html": [
              "\n",
              "            <style>\n",
              "                .geemap-dark {\n",
              "                    --jp-widgets-color: white;\n",
              "                    --jp-widgets-label-color: white;\n",
              "                    --jp-ui-font-color1: white;\n",
              "                    --jp-layout-color2: #454545;\n",
              "                    background-color: #383838;\n",
              "                }\n",
              "\n",
              "                .geemap-dark .jupyter-button {\n",
              "                    --jp-layout-color3: #383838;\n",
              "                }\n",
              "\n",
              "                .geemap-colab {\n",
              "                    background-color: var(--colab-primary-surface-color, white);\n",
              "                }\n",
              "\n",
              "                .geemap-colab .jupyter-button {\n",
              "                    --jp-layout-color3: var(--colab-primary-surface-color, white);\n",
              "                }\n",
              "            </style>\n",
              "            "
            ],
            "text/plain": [
              "<IPython.core.display.HTML object>"
            ]
          },
          "metadata": {},
          "output_type": "display_data"
        },
        {
          "name": "stdout",
          "output_type": "stream",
          "text": [
            "['TCC', 'aspect', 'bio06', 'bio09', 'bio14', 'elevation', 'slope']\n"
          ]
        },
        {
          "data": {
            "text/html": [
              "<div>\n",
              "<style scoped>\n",
              "    .dataframe tbody tr th:only-of-type {\n",
              "        vertical-align: middle;\n",
              "    }\n",
              "\n",
              "    .dataframe tbody tr th {\n",
              "        vertical-align: top;\n",
              "    }\n",
              "\n",
              "    .dataframe thead th {\n",
              "        text-align: right;\n",
              "    }\n",
              "</style>\n",
              "<table border=\"1\" class=\"dataframe\">\n",
              "  <thead>\n",
              "    <tr style=\"text-align: right;\">\n",
              "      <th></th>\n",
              "      <th>geometry</th>\n",
              "      <th>TCC</th>\n",
              "      <th>aspect</th>\n",
              "      <th>bio06</th>\n",
              "      <th>bio09</th>\n",
              "      <th>bio14</th>\n",
              "      <th>elevation</th>\n",
              "      <th>slope</th>\n",
              "    </tr>\n",
              "  </thead>\n",
              "  <tbody>\n",
              "    <tr>\n",
              "      <th>0</th>\n",
              "      <td>POINT (11.28733 42.43192)</td>\n",
              "      <td>6.0</td>\n",
              "      <td>254</td>\n",
              "      <td>48</td>\n",
              "      <td>225</td>\n",
              "      <td>10</td>\n",
              "      <td>7</td>\n",
              "      <td>2</td>\n",
              "    </tr>\n",
              "    <tr>\n",
              "      <th>1</th>\n",
              "      <td>POINT (12.32938 45.04602)</td>\n",
              "      <td>5.0</td>\n",
              "      <td>235</td>\n",
              "      <td>7</td>\n",
              "      <td>55</td>\n",
              "      <td>48</td>\n",
              "      <td>-3</td>\n",
              "      <td>0</td>\n",
              "    </tr>\n",
              "    <tr>\n",
              "      <th>2</th>\n",
              "      <td>POINT (10.82021 43.79736)</td>\n",
              "      <td>6.0</td>\n",
              "      <td>222</td>\n",
              "      <td>22</td>\n",
              "      <td>227</td>\n",
              "      <td>31</td>\n",
              "      <td>20</td>\n",
              "      <td>1</td>\n",
              "    </tr>\n",
              "    <tr>\n",
              "      <th>3</th>\n",
              "      <td>POINT (8.44866 45.40535)</td>\n",
              "      <td>9.0</td>\n",
              "      <td>180</td>\n",
              "      <td>-23</td>\n",
              "      <td>26</td>\n",
              "      <td>51</td>\n",
              "      <td>141</td>\n",
              "      <td>0</td>\n",
              "    </tr>\n",
              "    <tr>\n",
              "      <th>4</th>\n",
              "      <td>POINT (18.11453 39.88969)</td>\n",
              "      <td>3.0</td>\n",
              "      <td>189</td>\n",
              "      <td>72</td>\n",
              "      <td>246</td>\n",
              "      <td>15</td>\n",
              "      <td>10</td>\n",
              "      <td>0</td>\n",
              "    </tr>\n",
              "    <tr>\n",
              "      <th>...</th>\n",
              "      <td>...</td>\n",
              "      <td>...</td>\n",
              "      <td>...</td>\n",
              "      <td>...</td>\n",
              "      <td>...</td>\n",
              "      <td>...</td>\n",
              "      <td>...</td>\n",
              "      <td>...</td>\n",
              "    </tr>\n",
              "    <tr>\n",
              "      <th>2030</th>\n",
              "      <td>POINT (8.26001 45.23467)</td>\n",
              "      <td>44.0</td>\n",
              "      <td>11</td>\n",
              "      <td>-18</td>\n",
              "      <td>28</td>\n",
              "      <td>45</td>\n",
              "      <td>158</td>\n",
              "      <td>0</td>\n",
              "    </tr>\n",
              "    <tr>\n",
              "      <th>2031</th>\n",
              "      <td>POINT (10.33512 45.19873)</td>\n",
              "      <td>4.5</td>\n",
              "      <td>223</td>\n",
              "      <td>-20</td>\n",
              "      <td>44</td>\n",
              "      <td>52</td>\n",
              "      <td>38</td>\n",
              "      <td>0</td>\n",
              "    </tr>\n",
              "    <tr>\n",
              "      <th>2032</th>\n",
              "      <td>POINT (8.54747 45.46823)</td>\n",
              "      <td>8.5</td>\n",
              "      <td>168</td>\n",
              "      <td>-27</td>\n",
              "      <td>24</td>\n",
              "      <td>53</td>\n",
              "      <td>158</td>\n",
              "      <td>0</td>\n",
              "    </tr>\n",
              "    <tr>\n",
              "      <th>2033</th>\n",
              "      <td>POINT (9.58053 45.65687)</td>\n",
              "      <td>6.0</td>\n",
              "      <td>270</td>\n",
              "      <td>-16</td>\n",
              "      <td>49</td>\n",
              "      <td>55</td>\n",
              "      <td>182</td>\n",
              "      <td>0</td>\n",
              "    </tr>\n",
              "    <tr>\n",
              "      <th>2034</th>\n",
              "      <td>POINT (12.0509 44.90229)</td>\n",
              "      <td>7.0</td>\n",
              "      <td>55</td>\n",
              "      <td>6</td>\n",
              "      <td>54</td>\n",
              "      <td>45</td>\n",
              "      <td>-6</td>\n",
              "      <td>0</td>\n",
              "    </tr>\n",
              "  </tbody>\n",
              "</table>\n",
              "<p>2048 rows × 8 columns</p>\n",
              "</div>"
            ],
            "text/plain": [
              "                       geometry   TCC  aspect  bio06  bio09  bio14  elevation  \\\n",
              "0     POINT (11.28733 42.43192)   6.0     254     48    225     10          7   \n",
              "1     POINT (12.32938 45.04602)   5.0     235      7     55     48         -3   \n",
              "2     POINT (10.82021 43.79736)   6.0     222     22    227     31         20   \n",
              "3      POINT (8.44866 45.40535)   9.0     180    -23     26     51        141   \n",
              "4     POINT (18.11453 39.88969)   3.0     189     72    246     15         10   \n",
              "...                         ...   ...     ...    ...    ...    ...        ...   \n",
              "2030   POINT (8.26001 45.23467)  44.0      11    -18     28     45        158   \n",
              "2031  POINT (10.33512 45.19873)   4.5     223    -20     44     52         38   \n",
              "2032   POINT (8.54747 45.46823)   8.5     168    -27     24     53        158   \n",
              "2033   POINT (9.58053 45.65687)   6.0     270    -16     49     55        182   \n",
              "2034   POINT (12.0509 44.90229)   7.0      55      6     54     45         -6   \n",
              "\n",
              "      slope  \n",
              "0         2  \n",
              "1         0  \n",
              "2         1  \n",
              "3         0  \n",
              "4         0  \n",
              "...     ...  \n",
              "2030      0  \n",
              "2031      0  \n",
              "2032      0  \n",
              "2033      0  \n",
              "2034      0  \n",
              "\n",
              "[2048 rows x 8 columns]"
            ]
          },
          "execution_count": 44,
          "metadata": {},
          "output_type": "execute_result"
        }
      ],
      "source": [
        "print(bands)\n",
        "gdf_species"
      ]
    },
    {
      "cell_type": "code",
      "execution_count": 45,
      "metadata": {},
      "outputs": [
        {
          "data": {
            "text/html": [
              "\n",
              "            <style>\n",
              "                .geemap-dark {\n",
              "                    --jp-widgets-color: white;\n",
              "                    --jp-widgets-label-color: white;\n",
              "                    --jp-ui-font-color1: white;\n",
              "                    --jp-layout-color2: #454545;\n",
              "                    background-color: #383838;\n",
              "                }\n",
              "\n",
              "                .geemap-dark .jupyter-button {\n",
              "                    --jp-layout-color3: #383838;\n",
              "                }\n",
              "\n",
              "                .geemap-colab {\n",
              "                    background-color: var(--colab-primary-surface-color, white);\n",
              "                }\n",
              "\n",
              "                .geemap-colab .jupyter-button {\n",
              "                    --jp-layout-color3: var(--colab-primary-surface-color, white);\n",
              "                }\n",
              "            </style>\n",
              "            "
            ],
            "text/plain": [
              "<IPython.core.display.HTML object>"
            ]
          },
          "metadata": {},
          "output_type": "display_data"
        }
      ],
      "source": [
        "import geopandas as gpd\n",
        "import numpy as np\n",
        "import pandas as pd\n",
        "from shapely.geometry import box\n",
        "\n",
        "# Ensure CRS is metric (e.g. EPSG:3857)\n",
        "gdf_species = gdf_species.to_crs(epsg=3857)\n",
        "gdf_predictors = gdf_predictors.to_crs(epsg=3857)\n",
        "\n",
        "def spatially_balanced_sample(gdf, bands, samples=200, cell_size=10000, seed=42):\n",
        "    np.random.seed(seed)\n",
        "\n",
        "    # 1. Create a grid over the extent of the GeoDataFrame\n",
        "    bounds = gdf.total_bounds  # [minx, miny, maxx, maxy]\n",
        "    xmin, ymin, xmax, ymax = bounds\n",
        "    rows = int(np.ceil((ymax - ymin) / cell_size))\n",
        "    cols = int(np.ceil((xmax - xmin) / cell_size))\n",
        "\n",
        "    grid_cells = []\n",
        "    for i in range(cols):\n",
        "        for j in range(rows):\n",
        "            x0 = xmin + i * cell_size\n",
        "            x1 = x0 + cell_size\n",
        "            y0 = ymin + j * cell_size\n",
        "            y1 = y0 + cell_size\n",
        "            grid_cells.append(box(x0, y0, x1, y1))\n",
        "\n",
        "    grid = gpd.GeoDataFrame({'geometry': grid_cells}, crs=gdf.crs)\n",
        "\n",
        "    # 2. Spatial join to find points within each grid cell\n",
        "    joined = gpd.sjoin(gdf, grid, how='inner', predicate='intersects')\n",
        "\n",
        "    # 3. Sample one or a few points from each cell (up to `samples`)\n",
        "    samples_per_cell = max(1, samples // len(grid))\n",
        "    sampled_points = (\n",
        "        joined.groupby('index_right')\n",
        "        .apply(lambda x: x.sample(min(samples_per_cell, len(x)), random_state=seed))\n",
        "        .reset_index(drop=True)\n",
        "    )\n",
        "\n",
        "    # If oversampled, downsample to desired count\n",
        "    if len(sampled_points) > samples:\n",
        "        sampled_points = sampled_points.sample(n=samples, random_state=seed)\n",
        "\n",
        "    return sampled_points\n",
        "\n",
        "# Example usage\n",
        "#spatial_sample = spatially_balanced_sample(gdf_species, bands, samples=200, cell_size=10000)\n"
      ]
    },
    {
      "cell_type": "code",
      "execution_count": 46,
      "metadata": {},
      "outputs": [
        {
          "data": {
            "text/html": [
              "\n",
              "            <style>\n",
              "                .geemap-dark {\n",
              "                    --jp-widgets-color: white;\n",
              "                    --jp-widgets-label-color: white;\n",
              "                    --jp-ui-font-color1: white;\n",
              "                    --jp-layout-color2: #454545;\n",
              "                    background-color: #383838;\n",
              "                }\n",
              "\n",
              "                .geemap-dark .jupyter-button {\n",
              "                    --jp-layout-color3: #383838;\n",
              "                }\n",
              "\n",
              "                .geemap-colab {\n",
              "                    background-color: var(--colab-primary-surface-color, white);\n",
              "                }\n",
              "\n",
              "                .geemap-colab .jupyter-button {\n",
              "                    --jp-layout-color3: var(--colab-primary-surface-color, white);\n",
              "                }\n",
              "            </style>\n",
              "            "
            ],
            "text/plain": [
              "<IPython.core.display.HTML object>"
            ]
          },
          "metadata": {},
          "output_type": "display_data"
        }
      ],
      "source": [
        "def get_pseudo_absence_points(samples=200, seed=117,buffer_size=30000):\n",
        "    # Sample 200 occurrence points from gdf_species\n",
        "    #pval = gdf_species[bands].sample(n=samples, random_state=seed)\n",
        "\n",
        "    # Normal Random Sampling was too random. There was a high chance that we would not get a representative sample. So we sample a bit smarter\n",
        "\n",
        "    pval =  spatially_balanced_sample(gdf_species, bands, samples=samples, cell_size=buffer_size, seed=seed)\n",
        "    # Kmeans wants a df with only the predictor valuables\n",
        "    pval = pval.drop(columns=['geometry', 'index_right'])\n",
        "    \n",
        "    #kmeans = KMedoids(n_clusters=2, random_state=seed)\n",
        "    kmeans = KMeans(n_clusters=2, n_init=200, random_state=seed)\n",
        "    kmeans.fit(pval)\n",
        "\n",
        "    # Predict cluster labels for the full predictor dataset\n",
        "    gdf_predictors['kmeans_cluster'] = kmeans.predict(gdf_predictors[bands])\n",
        "\n",
        "    # Predict cluster labels for the sampled occurrences\n",
        "    occurrence_clusters = kmeans.predict(pval)\n",
        "\n",
        "    # Get the dominant cluster ID\n",
        "    dominant_cluster = pd.Series(occurrence_clusters).mode()[0]\n",
        "\n",
        "    # Pseudo-absence cluster is the opposite\n",
        "    pseudo_abs_cluster = 1 - dominant_cluster  # Assuming 2 clusters\n",
        "\n",
        "    # Mask the predictors grid to only the pseudo-absence cluster\n",
        "    gdf_pseudo_candidates = gdf_predictors[gdf_predictors['kmeans_cluster'] == pseudo_abs_cluster]\n",
        "    gdf_occurence_candidates = gdf_predictors[gdf_predictors['kmeans_cluster'] == dominant_cluster]\n",
        "\n",
        "    # Buffer presence points by 5km\n",
        "    presence_buffer = gdf_species.copy()\n",
        "    presence_buffer['geometry'] = presence_buffer.geometry.buffer(buffer_size)\n",
        "\n",
        "    # Filter out any pseudo-absence points that intersect the combined area\n",
        "    #gdf_pseudo_candidates = gdf_pseudo_candidates[~gdf_pseudo_candidates.geometry.intersects(combined_union)]\n",
        "\n",
        "    # Spatial join to remove nearby points\n",
        "    #gdf_pseudo_candidates = gdf_pseudo_candidates[~gdf_pseudo_candidates.geometry.within(presence_buffer.unary_union)]\n",
        "\n",
        "    return gdf_pseudo_candidates, gdf_occurence_candidates"
      ]
    },
    {
      "cell_type": "code",
      "execution_count": 47,
      "metadata": {},
      "outputs": [
        {
          "data": {
            "text/html": [
              "\n",
              "            <style>\n",
              "                .geemap-dark {\n",
              "                    --jp-widgets-color: white;\n",
              "                    --jp-widgets-label-color: white;\n",
              "                    --jp-ui-font-color1: white;\n",
              "                    --jp-layout-color2: #454545;\n",
              "                    background-color: #383838;\n",
              "                }\n",
              "\n",
              "                .geemap-dark .jupyter-button {\n",
              "                    --jp-layout-color3: #383838;\n",
              "                }\n",
              "\n",
              "                .geemap-colab {\n",
              "                    background-color: var(--colab-primary-surface-color, white);\n",
              "                }\n",
              "\n",
              "                .geemap-colab .jupyter-button {\n",
              "                    --jp-layout-color3: var(--colab-primary-surface-color, white);\n",
              "                }\n",
              "            </style>\n",
              "            "
            ],
            "text/plain": [
              "<IPython.core.display.HTML object>"
            ]
          },
          "metadata": {},
          "output_type": "display_data"
        },
        {
          "name": "stdout",
          "output_type": "stream",
          "text": [
            "2492334\n"
          ]
        }
      ],
      "source": [
        "gdf_pseudo_candidates, gdf_occurence_candidates = get_pseudo_absence_points()\n",
        "print(gdf_pseudo_candidates.size)"
      ]
    },
    {
      "cell_type": "code",
      "execution_count": 48,
      "metadata": {},
      "outputs": [
        {
          "data": {
            "text/html": [
              "\n",
              "            <style>\n",
              "                .geemap-dark {\n",
              "                    --jp-widgets-color: white;\n",
              "                    --jp-widgets-label-color: white;\n",
              "                    --jp-ui-font-color1: white;\n",
              "                    --jp-layout-color2: #454545;\n",
              "                    background-color: #383838;\n",
              "                }\n",
              "\n",
              "                .geemap-dark .jupyter-button {\n",
              "                    --jp-layout-color3: #383838;\n",
              "                }\n",
              "\n",
              "                .geemap-colab {\n",
              "                    background-color: var(--colab-primary-surface-color, white);\n",
              "                }\n",
              "\n",
              "                .geemap-colab .jupyter-button {\n",
              "                    --jp-layout-color3: var(--colab-primary-surface-color, white);\n",
              "                }\n",
              "            </style>\n",
              "            "
            ],
            "text/plain": [
              "<IPython.core.display.HTML object>"
            ]
          },
          "metadata": {},
          "output_type": "display_data"
        },
        {
          "data": {
            "image/png": "[encoded data removed]",
            "text/plain": [
              "<Figure size 700x700 with 1 Axes>"
            ]
          },
          "metadata": {},
          "output_type": "display_data"
        }
      ],
      "source": [
        "# You can uncomment, if you want to have a look at the clustering. But takes some time to plot \n",
        "for i in range(1):\n",
        "    gdf_pseudo_candidates, gdf_occurence_candidates = get_pseudo_absence_points(samples=100, seed=i)\n",
        "\n",
        "    # Set up the plot\n",
        "    fig, ax = plt.subplots(figsize=(7, 7))\n",
        "\n",
        "    # Plot pseudo-absence candidates\n",
        "    gdf_pseudo_candidates.plot(ax=ax, color='red', markersize=0.1, label='Pseudo-absence')\n",
        "\n",
        "    # Plot species occurrence points\n",
        "    gdf_occurence_candidates.plot(ax=ax, color='green', markersize=0.1, label='Occurrence')\n",
        "\n",
        "    # Customize plot\n",
        "    ax.set_title('Occurrence and Pseudo-absence Points')\n",
        "    ax.set_xlabel('Longitude')\n",
        "    ax.set_ylabel('Latitude')\n",
        "    #ax.legend()\n",
        "    ax.grid(True)\n",
        "\n",
        "    # Show plot\n",
        "    plt.show()"
      ]
    },
    {
      "cell_type": "markdown",
      "metadata": {},
      "source": [
        "## 4 Model fitting and prediction"
      ]
    },
    {
      "cell_type": "markdown",
      "metadata": {
        "id": "iTWaV5fQZPgA"
      },
      "source": [
        "We will now divide the data into training data and test data. We then do the basic Machine Learning Approach. Train the data on the training data and validate it against the test data.\n",
        "\n",
        "One thing to consider is **Spatial autocorrelation** which tends to be a problem in SDM. There seems to be a strong correlation across neighbouring points. This can become a problem when test and training data show signs of autocorrelation which can affect the model's robustness and applicability across different environments.\n",
        "\n",
        "A simple way to address this is what is called **spatial block cross-validation**, which ensures that there is at least some spatial distance between test and training data. To do so, we divide the our data in larger blocks (squares) of 50km. Then, we make sure that test and training data do not come from the same block.\n",
        "\n",
        "One method to address this issue is the spatial block cross-validation technique, which involves dividing the data into training and testing datasets. This technique involves dividing the data into multiple blocks, using each block independently as training and test datasets to reduce the impact of spatial autocorrelation. This enhances the independence between datasets, allowing for a more accurate evaluation of the model's generalization ability.\n",
        "\n",
        "Below is a bit of a spaghetti code, but it should still be easy to follow. We have the following procedure:\n",
        "\n",
        "0. We divide the data set into spatial blocks of 50km x 50km\n",
        "1. The blocks are then randomly assigned 3:7 split to be either be a test or training block\n",
        "2. Then we train a Random Forest to predict the habitat suitability given then environmental predictors\n",
        "3. We do this for 10 different randomly chosen test and training sets.\n",
        "4. We average the 10 results to get the final habitat suitability.\n",
        "5. We compare the metrics of each run for accuracy."
      ]
    },
    {
      "cell_type": "code",
      "execution_count": 49,
      "metadata": {},
      "outputs": [
        {
          "data": {
            "text/html": [
              "\n",
              "            <style>\n",
              "                .geemap-dark {\n",
              "                    --jp-widgets-color: white;\n",
              "                    --jp-widgets-label-color: white;\n",
              "                    --jp-ui-font-color1: white;\n",
              "                    --jp-layout-color2: #454545;\n",
              "                    background-color: #383838;\n",
              "                }\n",
              "\n",
              "                .geemap-dark .jupyter-button {\n",
              "                    --jp-layout-color3: #383838;\n",
              "                }\n",
              "\n",
              "                .geemap-colab {\n",
              "                    background-color: var(--colab-primary-surface-color, white);\n",
              "                }\n",
              "\n",
              "                .geemap-colab .jupyter-button {\n",
              "                    --jp-layout-color3: var(--colab-primary-surface-color, white);\n",
              "                }\n",
              "            </style>\n",
              "            "
            ],
            "text/plain": [
              "<IPython.core.display.HTML object>"
            ]
          },
          "metadata": {},
          "output_type": "display_data"
        },
        {
          "name": "stdout",
          "output_type": "stream",
          "text": [
            "0\n",
            "1\n",
            "2\n",
            "3\n",
            "4\n",
            "5\n",
            "6\n",
            "7\n",
            "8\n",
            "9\n",
            "Avg Accuracy: 0.969 ± 0.007\n",
            "Avg ROC AUC:  0.994 ± 0.004\n"
          ]
        }
      ],
      "source": [
        "predictor_cols = [col for col in gdf_predictors.columns if col not in [\"geometry\", \"kmeans_cluster\", \"suitability\"]]\n",
        "suitability_maps = []\n",
        "accuracies = []\n",
        "aucs = []\n",
        "\n",
        "for seed in range(10):\n",
        "    print(seed)\n",
        "    # 300 occurrence points\n",
        "    occ = gdf_species.sample(n=300, random_state=seed).copy()\n",
        "    occ[\"label\"] = 1\n",
        "    occ = occ.to_crs(epsg=3857)\n",
        "    \n",
        "    # 300 pseudo-absence points\n",
        "    gdf_pa, _ = get_pseudo_absence_points(samples=100)\n",
        "    pseudo = gdf_pa.sample(n=300, random_state=seed).copy()\n",
        "    pseudo[\"label\"] = 0\n",
        "    pseudo = pseudo.to_crs(epsg=3857)\n",
        "\n",
        "    # Combine and split\n",
        "    df = pd.concat([occ, pseudo]).reset_index(drop=True)\n",
        "    X = df[predictor_cols]\n",
        "    y = df[\"label\"]\n",
        "    \n",
        "    X_train, X_test, y_train, y_test = train_test_split(\n",
        "        X, y, test_size=0.3, stratify=y, random_state=seed\n",
        "    )\n",
        "\n",
        "    # Train model\n",
        "    rf = RandomForestClassifier(n_estimators=200, random_state=seed)\n",
        "    rf.fit(X_train, y_train)\n",
        "\n",
        "    # Evaluate\n",
        "    y_pred = rf.predict(X_test)\n",
        "    y_proba = rf.predict_proba(X_test)[:, 1]\n",
        "    acc = accuracy_score(y_test, y_pred)\n",
        "    auc = roc_auc_score(y_test, y_proba)\n",
        "\n",
        "    accuracies.append(acc)\n",
        "    aucs.append(auc)\n",
        "\n",
        "    # Predict over habitat image\n",
        "    habitat_image = gdf_predictors[predictor_cols]\n",
        "    suitability = rf.predict_proba(habitat_image)[:, 1]\n",
        "    suitability_maps.append(suitability)\n",
        "\n",
        "# Average metrics\n",
        "print(f\"Avg Accuracy: {np.mean(accuracies):.3f} ± {np.std(accuracies):.3f}\")\n",
        "print(f\"Avg ROC AUC:  {np.mean(aucs):.3f} ± {np.std(aucs):.3f}\")\n",
        "\n",
        "# Average suitability\n",
        "avg_suitability = np.mean(suitability_maps, axis=0)\n",
        "gdf_predictors[\"suitability\"] = avg_suitability\n"
      ]
    },
    {
      "cell_type": "markdown",
      "metadata": {},
      "source": [
        "Finally we visualise the results"
      ]
    },
    {
      "cell_type": "code",
      "execution_count": 50,
      "metadata": {},
      "outputs": [
        {
          "data": {
            "text/html": [
              "\n",
              "            <style>\n",
              "                .geemap-dark {\n",
              "                    --jp-widgets-color: white;\n",
              "                    --jp-widgets-label-color: white;\n",
              "                    --jp-ui-font-color1: white;\n",
              "                    --jp-layout-color2: #454545;\n",
              "                    background-color: #383838;\n",
              "                }\n",
              "\n",
              "                .geemap-dark .jupyter-button {\n",
              "                    --jp-layout-color3: #383838;\n",
              "                }\n",
              "\n",
              "                .geemap-colab {\n",
              "                    background-color: var(--colab-primary-surface-color, white);\n",
              "                }\n",
              "\n",
              "                .geemap-colab .jupyter-button {\n",
              "                    --jp-layout-color3: var(--colab-primary-surface-color, white);\n",
              "                }\n",
              "            </style>\n",
              "            "
            ],
            "text/plain": [
              "<IPython.core.display.HTML object>"
            ]
          },
          "metadata": {},
          "output_type": "display_data"
        },
        {
          "name": "stdout",
          "output_type": "stream",
          "text": [
            "['Point']\n"
          ]
        }
      ],
      "source": [
        "print(gdf_species.geom_type.unique())"
      ]
    },
    {
      "cell_type": "code",
      "execution_count": null,
      "metadata": {},
      "outputs": [
        {
          "data": {
            "text/html": [
              "\n",
              "            <style>\n",
              "                .geemap-dark {\n",
              "                    --jp-widgets-color: white;\n",
              "                    --jp-widgets-label-color: white;\n",
              "                    --jp-ui-font-color1: white;\n",
              "                    --jp-layout-color2: #454545;\n",
              "                    background-color: #383838;\n",
              "                }\n",
              "\n",
              "                .geemap-dark .jupyter-button {\n",
              "                    --jp-layout-color3: #383838;\n",
              "                }\n",
              "\n",
              "                .geemap-colab {\n",
              "                    background-color: var(--colab-primary-surface-color, white);\n",
              "                }\n",
              "\n",
              "                .geemap-colab .jupyter-button {\n",
              "                    --jp-layout-color3: var(--colab-primary-surface-color, white);\n",
              "                }\n",
              "            </style>\n",
              "            "
            ],
            "text/plain": [
              "<IPython.core.display.HTML object>"
            ]
          },
          "metadata": {},
          "output_type": "display_data"
        },
        {
          "data": {
            "image/png": "[encoded data removed]",
            "text/plain": [
              "<Figure size 700x700 with 2 Axes>"
            ]
          },
          "metadata": {},
          "output_type": "display_data"
        }
      ],
      "source": [
        "fig, ax = plt.subplots(figsize=(7, 7))\n",
        "\n",
        "gdf_predictors.plot(column=\"suitability\", cmap=\"RdYlGn\", markersize=0.1, ax=ax, legend=True)\n",
        "\n",
        "# Convert gdf_species to match CRS and extract x and y\n",
        "gdf_species_proj = gdf_species.to_crs(gdf_predictors.crs)\n",
        "x = gdf_species_proj.geometry.x\n",
        "y = gdf_species_proj.geometry.y\n",
        "\n",
        "# Plot using scatter for more control\n",
        "ax.scatter(x, y, color='black', s=10, marker='x', alpha=1)\n",
        "\n",
        "\n",
        "ax.set_title(\"Habitat Suitability Map of Ibis in Italy\", size=16)\n",
        "ax.axis(\"off\")\n",
        "#plt.legend()\n",
        "plt.savefig('output/habitat.png')\n",
        "plt.show()"
      ]
    },
    {
      "cell_type": "markdown",
      "metadata": {},
      "source": [
        "The great thing about random forest and the use of pseudo-absence data is that we can use derive the importance of each variable.\n",
        "\n",
        "The elevation, slope and bio8 are the 3 most important variables (note that slope and elevation are quite related)"
      ]
    },
    {
      "cell_type": "code",
      "execution_count": null,
      "metadata": {},
      "outputs": [
        {
          "data": {
            "text/html": [
              "\n",
              "            <style>\n",
              "                .geemap-dark {\n",
              "                    --jp-widgets-color: white;\n",
              "                    --jp-widgets-label-color: white;\n",
              "                    --jp-ui-font-color1: white;\n",
              "                    --jp-layout-color2: #454545;\n",
              "                    background-color: #383838;\n",
              "                }\n",
              "\n",
              "                .geemap-dark .jupyter-button {\n",
              "                    --jp-layout-color3: #383838;\n",
              "                }\n",
              "\n",
              "                .geemap-colab {\n",
              "                    background-color: var(--colab-primary-surface-color, white);\n",
              "                }\n",
              "\n",
              "                .geemap-colab .jupyter-button {\n",
              "                    --jp-layout-color3: var(--colab-primary-surface-color, white);\n",
              "                }\n",
              "            </style>\n",
              "            "
            ],
            "text/plain": [
              "<IPython.core.display.HTML object>"
            ]
          },
          "metadata": {},
          "output_type": "display_data"
        },
        {
          "data": {
            "image/png": "[encoded data removed]",
            "text/plain": [
              "<Figure size 600x600 with 1 Axes>"
            ]
          },
          "metadata": {},
          "output_type": "display_data"
        }
      ],
      "source": [
        "# Get feature importances from the trained model\n",
        "importances = rf.feature_importances_\n",
        "\n",
        "# Create a DataFrame with feature names and their importances\n",
        "feature_importance_df = pd.DataFrame({\n",
        "    'Feature': predictor_cols,\n",
        "    'Importance': importances\n",
        "}).sort_values(by='Importance', ascending=False)\n",
        "\n",
        "# Plot\n",
        "plt.figure(figsize=(6, 6))\n",
        "plt.barh(feature_importance_df['Feature'], feature_importance_df['Importance'])\n",
        "plt.xlabel('Importance')\n",
        "plt.title('Random Forest Feature Importances')\n",
        "plt.gca().invert_yaxis()\n",
        "plt.tight_layout()\n",
        "plt.savefig('output/importance.png')\n",
        "plt.show()"
      ]
    },
    {
      "cell_type": "markdown",
      "metadata": {
        "id": "QDlaa47s1WjC"
      },
      "source": [
        "Great, we made it to the end of this tutorial/example.\n",
        "\n",
        "Once again please have a look at the Google Earth Engine Tutorial which provides more detail in some steps and many more visualisation. The visualisations and interactive maps are definitely the strong suit of this.\n",
        "\n",
        "Another great sure is [this github page](https://smithsonian.github.io/SDMinGEE/#creating-pseudo-absences), which I think is the basis of the GEE tutorial. It is in JavaScript, but GEE is basically in Javascript anyways.\n",
        "\n",
        "Finally, I want to draw the attention to a [nature publication on the sacred ibis in Italy](https://www.nature.com/articles/s41598-020-79137-w). Luckily, I am not trying to publish any of this because basically the whole analysis has been done already in 2021. There are further details, especially, on the Ibis bird and its behavior and habitat. They use R (yet another language to solve the same problem). On a positive note, we now have the technical skills to publish in Nature. "
      ]
    }
  ],
  "metadata": {
    "colab": {
      "name": "Species Distribution Modeling",
      "provenance": []
    },
    "kernelspec": {
      "display_name": "base",
      "language": "python",
      "name": "python3"
    },
    "language_info": {
      "codemirror_mode": {
        "name": "ipython",
        "version": 3
      },
      "file_extension": ".py",
      "mimetype": "text/x-python",
      "name": "python",
      "nbconvert_exporter": "python",
      "pygments_lexer": "ipython3",
      "version": "3.12.7"
    }
  },
  "nbformat": 4,
  "nbformat_minor": 0
}
